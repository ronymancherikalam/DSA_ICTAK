{
 "cells": [
  {
   "cell_type": "code",
   "execution_count": 73,
   "id": "1a97f639-bfa6-49fa-85e2-6c8db17de4ec",
   "metadata": {},
   "outputs": [],
   "source": [
    "import pandas as pd\n",
    "import numpy as np\n",
    "import seaborn as sns\n",
    "import matplotlib.pyplot as plt\n",
    "from scipy import stats\n",
    "import statsmodels.formula.api as smf\n",
    "import statsmodels.api as sm"
   ]
  },
  {
   "cell_type": "code",
   "execution_count": 74,
   "id": "18a7b7f2-c641-4381-9f6b-73d7bd3f4d21",
   "metadata": {},
   "outputs": [],
   "source": [
    "data=pd.read_csv('Advertising.csv')"
   ]
  },
  {
   "cell_type": "markdown",
   "id": "b0ce1c14-120d-4dbf-9991-d05b6a980ffa",
   "metadata": {},
   "source": [
    "# 1. Explain the dataset"
   ]
  },
  {
   "cell_type": "code",
   "execution_count": 3,
   "id": "78f7a31b-67c6-4b87-87d1-40f23d9437da",
   "metadata": {},
   "outputs": [
    {
     "data": {
      "text/html": [
       "<div>\n",
       "<style scoped>\n",
       "    .dataframe tbody tr th:only-of-type {\n",
       "        vertical-align: middle;\n",
       "    }\n",
       "\n",
       "    .dataframe tbody tr th {\n",
       "        vertical-align: top;\n",
       "    }\n",
       "\n",
       "    .dataframe thead th {\n",
       "        text-align: right;\n",
       "    }\n",
       "</style>\n",
       "<table border=\"1\" class=\"dataframe\">\n",
       "  <thead>\n",
       "    <tr style=\"text-align: right;\">\n",
       "      <th></th>\n",
       "      <th>Unnamed: 0</th>\n",
       "      <th>TV</th>\n",
       "      <th>Radio</th>\n",
       "      <th>Newspaper</th>\n",
       "      <th>Sales</th>\n",
       "    </tr>\n",
       "  </thead>\n",
       "  <tbody>\n",
       "    <tr>\n",
       "      <th>0</th>\n",
       "      <td>1</td>\n",
       "      <td>230.1</td>\n",
       "      <td>37.8</td>\n",
       "      <td>69.2</td>\n",
       "      <td>22.1</td>\n",
       "    </tr>\n",
       "    <tr>\n",
       "      <th>1</th>\n",
       "      <td>2</td>\n",
       "      <td>44.5</td>\n",
       "      <td>39.3</td>\n",
       "      <td>45.1</td>\n",
       "      <td>10.4</td>\n",
       "    </tr>\n",
       "    <tr>\n",
       "      <th>2</th>\n",
       "      <td>3</td>\n",
       "      <td>17.2</td>\n",
       "      <td>45.9</td>\n",
       "      <td>69.3</td>\n",
       "      <td>9.3</td>\n",
       "    </tr>\n",
       "    <tr>\n",
       "      <th>3</th>\n",
       "      <td>4</td>\n",
       "      <td>151.5</td>\n",
       "      <td>41.3</td>\n",
       "      <td>58.5</td>\n",
       "      <td>18.5</td>\n",
       "    </tr>\n",
       "    <tr>\n",
       "      <th>4</th>\n",
       "      <td>5</td>\n",
       "      <td>180.8</td>\n",
       "      <td>10.8</td>\n",
       "      <td>58.4</td>\n",
       "      <td>12.9</td>\n",
       "    </tr>\n",
       "  </tbody>\n",
       "</table>\n",
       "</div>"
      ],
      "text/plain": [
       "   Unnamed: 0     TV  Radio  Newspaper  Sales\n",
       "0           1  230.1   37.8       69.2   22.1\n",
       "1           2   44.5   39.3       45.1   10.4\n",
       "2           3   17.2   45.9       69.3    9.3\n",
       "3           4  151.5   41.3       58.5   18.5\n",
       "4           5  180.8   10.8       58.4   12.9"
      ]
     },
     "execution_count": 3,
     "metadata": {},
     "output_type": "execute_result"
    }
   ],
   "source": [
    "data.head()"
   ]
  },
  {
   "cell_type": "code",
   "execution_count": 8,
   "id": "e0b3ddbb-172e-472d-85f4-27948877489b",
   "metadata": {},
   "outputs": [
    {
     "name": "stdout",
     "output_type": "stream",
     "text": [
      "<class 'pandas.core.frame.DataFrame'>\n",
      "RangeIndex: 200 entries, 0 to 199\n",
      "Data columns (total 5 columns):\n",
      " #   Column      Non-Null Count  Dtype  \n",
      "---  ------      --------------  -----  \n",
      " 0   Unnamed: 0  200 non-null    int64  \n",
      " 1   TV          200 non-null    float64\n",
      " 2   Radio       200 non-null    float64\n",
      " 3   Newspaper   200 non-null    float64\n",
      " 4   Sales       200 non-null    float64\n",
      "dtypes: float64(4), int64(1)\n",
      "memory usage: 7.9 KB\n"
     ]
    }
   ],
   "source": [
    "data.info()"
   ]
  },
  {
   "cell_type": "markdown",
   "id": "164858ce-aebb-474f-a962-78de40b77660",
   "metadata": {},
   "source": [
    "<font color='blue'>As per above the data is having an unnamed column which is actually serial no of each row and need to be dropped.\n",
    "There are a total of 200 samples\n",
    "The data is about advertising done through different media and the sales achieved.</font>"
   ]
  },
  {
   "cell_type": "markdown",
   "id": "2f4930d4-0581-4ae6-bca1-37bca01012de",
   "metadata": {},
   "source": [
    "# 2. Check the summary statistics and discuss the max, min, avg, median, and percentiles."
   ]
  },
  {
   "cell_type": "code",
   "execution_count": 75,
   "id": "45d8a4f3-70a5-4f1e-a46b-945eaf6a1230",
   "metadata": {},
   "outputs": [],
   "source": [
    "data1 = data.drop('Unnamed: 0',axis=1)"
   ]
  },
  {
   "cell_type": "code",
   "execution_count": 76,
   "id": "2ca58f10-049b-4fab-8f10-44b9abf959e8",
   "metadata": {},
   "outputs": [
    {
     "data": {
      "text/html": [
       "<div>\n",
       "<style scoped>\n",
       "    .dataframe tbody tr th:only-of-type {\n",
       "        vertical-align: middle;\n",
       "    }\n",
       "\n",
       "    .dataframe tbody tr th {\n",
       "        vertical-align: top;\n",
       "    }\n",
       "\n",
       "    .dataframe thead th {\n",
       "        text-align: right;\n",
       "    }\n",
       "</style>\n",
       "<table border=\"1\" class=\"dataframe\">\n",
       "  <thead>\n",
       "    <tr style=\"text-align: right;\">\n",
       "      <th></th>\n",
       "      <th>TV</th>\n",
       "      <th>Radio</th>\n",
       "      <th>Newspaper</th>\n",
       "      <th>Sales</th>\n",
       "    </tr>\n",
       "  </thead>\n",
       "  <tbody>\n",
       "    <tr>\n",
       "      <th>count</th>\n",
       "      <td>200.000000</td>\n",
       "      <td>200.000000</td>\n",
       "      <td>200.000000</td>\n",
       "      <td>200.000000</td>\n",
       "    </tr>\n",
       "    <tr>\n",
       "      <th>mean</th>\n",
       "      <td>147.042500</td>\n",
       "      <td>23.264000</td>\n",
       "      <td>30.554000</td>\n",
       "      <td>14.022500</td>\n",
       "    </tr>\n",
       "    <tr>\n",
       "      <th>std</th>\n",
       "      <td>85.854236</td>\n",
       "      <td>14.846809</td>\n",
       "      <td>21.778621</td>\n",
       "      <td>5.217457</td>\n",
       "    </tr>\n",
       "    <tr>\n",
       "      <th>min</th>\n",
       "      <td>0.700000</td>\n",
       "      <td>0.000000</td>\n",
       "      <td>0.300000</td>\n",
       "      <td>1.600000</td>\n",
       "    </tr>\n",
       "    <tr>\n",
       "      <th>25%</th>\n",
       "      <td>74.375000</td>\n",
       "      <td>9.975000</td>\n",
       "      <td>12.750000</td>\n",
       "      <td>10.375000</td>\n",
       "    </tr>\n",
       "    <tr>\n",
       "      <th>50%</th>\n",
       "      <td>149.750000</td>\n",
       "      <td>22.900000</td>\n",
       "      <td>25.750000</td>\n",
       "      <td>12.900000</td>\n",
       "    </tr>\n",
       "    <tr>\n",
       "      <th>75%</th>\n",
       "      <td>218.825000</td>\n",
       "      <td>36.525000</td>\n",
       "      <td>45.100000</td>\n",
       "      <td>17.400000</td>\n",
       "    </tr>\n",
       "    <tr>\n",
       "      <th>max</th>\n",
       "      <td>296.400000</td>\n",
       "      <td>49.600000</td>\n",
       "      <td>114.000000</td>\n",
       "      <td>27.000000</td>\n",
       "    </tr>\n",
       "  </tbody>\n",
       "</table>\n",
       "</div>"
      ],
      "text/plain": [
       "               TV       Radio   Newspaper       Sales\n",
       "count  200.000000  200.000000  200.000000  200.000000\n",
       "mean   147.042500   23.264000   30.554000   14.022500\n",
       "std     85.854236   14.846809   21.778621    5.217457\n",
       "min      0.700000    0.000000    0.300000    1.600000\n",
       "25%     74.375000    9.975000   12.750000   10.375000\n",
       "50%    149.750000   22.900000   25.750000   12.900000\n",
       "75%    218.825000   36.525000   45.100000   17.400000\n",
       "max    296.400000   49.600000  114.000000   27.000000"
      ]
     },
     "execution_count": 76,
     "metadata": {},
     "output_type": "execute_result"
    }
   ],
   "source": [
    "data1.describe()"
   ]
  },
  {
   "cell_type": "markdown",
   "id": "44b188f2-3360-422e-8b3f-a9364dec44bf",
   "metadata": {},
   "source": [
    "# a)minimum values of data"
   ]
  },
  {
   "cell_type": "code",
   "execution_count": 16,
   "id": "9e6b5d56-022e-48b9-8ce5-aa0a32ac37d8",
   "metadata": {},
   "outputs": [
    {
     "name": "stdout",
     "output_type": "stream",
     "text": [
      "TV           0.7\n",
      "Radio        0.0\n",
      "Newspaper    0.3\n",
      "Sales        1.6\n",
      "dtype: float64\n"
     ]
    }
   ],
   "source": [
    "minimum = np.min(data1)\n",
    "print(minimum)"
   ]
  },
  {
   "cell_type": "markdown",
   "id": "80be3561-77a8-4390-8af8-1ae5b155aec9",
   "metadata": {},
   "source": [
    "<font color='blue'>Minimum spend on advertisement and least sales value</font>"
   ]
  },
  {
   "cell_type": "markdown",
   "id": "a0280078-35fc-4ff6-b077-09ea2175dcc4",
   "metadata": {},
   "source": [
    "# b)maximum values of data"
   ]
  },
  {
   "cell_type": "code",
   "execution_count": 207,
   "id": "b615fa5f-7025-436a-b31b-0356d4dfb9b3",
   "metadata": {},
   "outputs": [
    {
     "name": "stdout",
     "output_type": "stream",
     "text": [
      "TV           296.4\n",
      "Radio         49.6\n",
      "Newspaper    114.0\n",
      "Sales         27.0\n",
      "dtype: float64\n"
     ]
    }
   ],
   "source": [
    "maximum = np.max(data1)\n",
    "print(maximum)"
   ]
  },
  {
   "cell_type": "markdown",
   "id": "e279a743-6be4-4c37-b1a7-0c5af1b45aa0",
   "metadata": {},
   "source": [
    "# c)average values of data"
   ]
  },
  {
   "cell_type": "code",
   "execution_count": 30,
   "id": "b94eaaf4-a71d-49ce-a9a2-3c959fddf3b4",
   "metadata": {},
   "outputs": [
    {
     "data": {
      "text/plain": [
       "TV           147.0425\n",
       "Radio         23.2640\n",
       "Newspaper     30.5540\n",
       "Sales         14.0225\n",
       "dtype: float64"
      ]
     },
     "execution_count": 30,
     "metadata": {},
     "output_type": "execute_result"
    }
   ],
   "source": [
    "data1.mean()"
   ]
  },
  {
   "cell_type": "markdown",
   "id": "442c6755-963a-47c2-b5f8-a36da650a53d",
   "metadata": {},
   "source": [
    "<font color='blue'>Comparitively more money is spent on advertisement through TV and less through Radio</font>"
   ]
  },
  {
   "cell_type": "markdown",
   "id": "75baff3a-96c4-4be1-a97e-224dba03eb64",
   "metadata": {},
   "source": [
    "# d)median values of data"
   ]
  },
  {
   "cell_type": "code",
   "execution_count": 20,
   "id": "0f818b20-b082-4368-bad5-265c7d564926",
   "metadata": {},
   "outputs": [
    {
     "name": "stdout",
     "output_type": "stream",
     "text": [
      "median of TV: 149.75\n",
      "median of Radio: 22.9\n",
      "median of Newspaper: 25.75\n",
      "median of sales: 12.9\n"
     ]
    }
   ],
   "source": [
    "median_TV = np.median(data['TV'])\n",
    "median_Radio = np.median(data['Radio'])\n",
    "median_Newspaper = np.median(data['Newspaper'])\n",
    "median_Sales = np.median(data['Sales'])\n",
    "\n",
    "print('median of TV:',median_TV)\n",
    "print('median of Radio:',median_Radio)\n",
    "print('median of Newspaper:',median_Newspaper)\n",
    "print(\"median of sales:\",median_Sales)"
   ]
  },
  {
   "cell_type": "code",
   "execution_count": 29,
   "id": "00d5a73b-f0d0-4111-8540-da06edb9a4e9",
   "metadata": {},
   "outputs": [
    {
     "data": {
      "text/plain": [
       "TV           149.75\n",
       "Radio         22.90\n",
       "Newspaper     25.75\n",
       "Sales         12.90\n",
       "dtype: float64"
      ]
     },
     "execution_count": 29,
     "metadata": {},
     "output_type": "execute_result"
    }
   ],
   "source": [
    "data1.median()"
   ]
  },
  {
   "cell_type": "markdown",
   "id": "bfa5f809-5c56-4610-aa81-7f5c94c5fa28",
   "metadata": {},
   "source": [
    "# e)percentiles values of data"
   ]
  },
  {
   "cell_type": "code",
   "execution_count": 38,
   "id": "b38221cc-1ba8-49f9-9d9d-a8463453343d",
   "metadata": {},
   "outputs": [
    {
     "name": "stdout",
     "output_type": "stream",
     "text": [
      "25th percentile of TV:    74.375\n",
      "25th percentile of Radio:    9.975\n",
      "25th percentile of Newspaper:    12.75\n",
      "25th percentile of Sales:    10.375\n",
      "75th percentile of TV:    218.825\n",
      "75th percentile of Radio:    36.525\n",
      "75th percentile of Newspaper:    45.1\n",
      "75th percentile of Sales:    17.4\n"
     ]
    }
   ],
   "source": [
    "print(\"25th percentile of TV:   \", np.percentile(data['TV'], 25))\n",
    "print(\"25th percentile of Radio:   \", np.percentile(data['Radio'], 25))\n",
    "print(\"25th percentile of Newspaper:   \", np.percentile(data['Newspaper'], 25))\n",
    "print(\"25th percentile of Sales:   \", np.percentile(data['Sales'], 25))\n",
    "\n",
    "\n",
    "print(\"75th percentile of TV:   \", np.percentile(data['TV'], 75))\n",
    "print(\"75th percentile of Radio:   \", np.percentile(data['Radio'], 75))\n",
    "print(\"75th percentile of Newspaper:   \", np.percentile(data['Newspaper'], 75))\n",
    "print(\"75th percentile of Sales:   \", np.percentile(data['Sales'], 75))"
   ]
  },
  {
   "cell_type": "code",
   "execution_count": 41,
   "id": "1b638944-9b1e-4b84-a98b-60ab41e5fdee",
   "metadata": {},
   "outputs": [
    {
     "data": {
      "text/html": [
       "<div>\n",
       "<style scoped>\n",
       "    .dataframe tbody tr th:only-of-type {\n",
       "        vertical-align: middle;\n",
       "    }\n",
       "\n",
       "    .dataframe tbody tr th {\n",
       "        vertical-align: top;\n",
       "    }\n",
       "\n",
       "    .dataframe thead th {\n",
       "        text-align: right;\n",
       "    }\n",
       "</style>\n",
       "<table border=\"1\" class=\"dataframe\">\n",
       "  <thead>\n",
       "    <tr style=\"text-align: right;\">\n",
       "      <th></th>\n",
       "      <th>TV</th>\n",
       "      <th>Radio</th>\n",
       "      <th>Newspaper</th>\n",
       "      <th>Sales</th>\n",
       "    </tr>\n",
       "  </thead>\n",
       "  <tbody>\n",
       "    <tr>\n",
       "      <th>0.25</th>\n",
       "      <td>74.375</td>\n",
       "      <td>9.975</td>\n",
       "      <td>12.75</td>\n",
       "      <td>10.375</td>\n",
       "    </tr>\n",
       "    <tr>\n",
       "      <th>0.50</th>\n",
       "      <td>149.750</td>\n",
       "      <td>22.900</td>\n",
       "      <td>25.75</td>\n",
       "      <td>12.900</td>\n",
       "    </tr>\n",
       "    <tr>\n",
       "      <th>0.75</th>\n",
       "      <td>218.825</td>\n",
       "      <td>36.525</td>\n",
       "      <td>45.10</td>\n",
       "      <td>17.400</td>\n",
       "    </tr>\n",
       "  </tbody>\n",
       "</table>\n",
       "</div>"
      ],
      "text/plain": [
       "           TV   Radio  Newspaper   Sales\n",
       "0.25   74.375   9.975      12.75  10.375\n",
       "0.50  149.750  22.900      25.75  12.900\n",
       "0.75  218.825  36.525      45.10  17.400"
      ]
     },
     "execution_count": 41,
     "metadata": {},
     "output_type": "execute_result"
    }
   ],
   "source": [
    "data1.quantile([.25,.5,.75])"
   ]
  },
  {
   "cell_type": "markdown",
   "id": "9ee2f113-4aed-48a4-a923-9b833b7b9f00",
   "metadata": {},
   "source": [
    "# 3. Draw a scatter plot between TV and sales and write your insights"
   ]
  },
  {
   "cell_type": "code",
   "execution_count": 209,
   "id": "fa0651a5-0d0f-4458-9983-fd9cb48b3ea9",
   "metadata": {},
   "outputs": [
    {
     "data": {
      "text/plain": [
       "[<matplotlib.lines.Line2D at 0x7fd7be53eb50>]"
      ]
     },
     "execution_count": 209,
     "metadata": {},
     "output_type": "execute_result"
    },
    {
     "data": {
      "image/png": "[encoded data removed]",
      "text/plain": [
       "<Figure size 576x432 with 1 Axes>"
      ]
     },
     "metadata": {
      "needs_background": "light"
     },
     "output_type": "display_data"
    }
   ],
   "source": [
    "plt.figure(figsize=(8,6))\n",
    "X=data1['TV']\n",
    "Y=data1['Sales']\n",
    "sns.scatterplot(x=X,y=Y,data=data1)\n",
    "Z = np.polyfit(X, Y, 1)\n",
    "P = np.poly1d(Z)\n",
    "plt.plot(X,P(X),\"r--\")"
   ]
  },
  {
   "cell_type": "markdown",
   "id": "a7f38d1f-a253-4411-ae1c-92f601ad28e7",
   "metadata": {},
   "source": [
    "<font color='blue'>As per above scatter plot with least squared fitting we can see the data points are not dispersed a lot and follows a strong positive linear relationship. So when the advertising in TV increases the sales figure also can be seen increasing</font>\n"
   ]
  },
  {
   "cell_type": "markdown",
   "id": "102e679f-7ea0-48fe-9560-be3b55c9c5cb",
   "metadata": {},
   "source": [
    "# 4. Do a correlation analysis on the data set"
   ]
  },
  {
   "cell_type": "code",
   "execution_count": 66,
   "id": "e67f69c6-7722-44a2-ae2a-0764d05ee87a",
   "metadata": {},
   "outputs": [
    {
     "data": {
      "text/html": [
       "<div>\n",
       "<style scoped>\n",
       "    .dataframe tbody tr th:only-of-type {\n",
       "        vertical-align: middle;\n",
       "    }\n",
       "\n",
       "    .dataframe tbody tr th {\n",
       "        vertical-align: top;\n",
       "    }\n",
       "\n",
       "    .dataframe thead th {\n",
       "        text-align: right;\n",
       "    }\n",
       "</style>\n",
       "<table border=\"1\" class=\"dataframe\">\n",
       "  <thead>\n",
       "    <tr style=\"text-align: right;\">\n",
       "      <th></th>\n",
       "      <th>TV</th>\n",
       "      <th>Radio</th>\n",
       "      <th>Newspaper</th>\n",
       "      <th>Sales</th>\n",
       "    </tr>\n",
       "  </thead>\n",
       "  <tbody>\n",
       "    <tr>\n",
       "      <th>TV</th>\n",
       "      <td>1.00</td>\n",
       "      <td>0.05</td>\n",
       "      <td>0.06</td>\n",
       "      <td>0.78</td>\n",
       "    </tr>\n",
       "    <tr>\n",
       "      <th>Radio</th>\n",
       "      <td>0.05</td>\n",
       "      <td>1.00</td>\n",
       "      <td>0.35</td>\n",
       "      <td>0.58</td>\n",
       "    </tr>\n",
       "    <tr>\n",
       "      <th>Newspaper</th>\n",
       "      <td>0.06</td>\n",
       "      <td>0.35</td>\n",
       "      <td>1.00</td>\n",
       "      <td>0.23</td>\n",
       "    </tr>\n",
       "    <tr>\n",
       "      <th>Sales</th>\n",
       "      <td>0.78</td>\n",
       "      <td>0.58</td>\n",
       "      <td>0.23</td>\n",
       "      <td>1.00</td>\n",
       "    </tr>\n",
       "  </tbody>\n",
       "</table>\n",
       "</div>"
      ],
      "text/plain": [
       "             TV  Radio  Newspaper  Sales\n",
       "TV         1.00   0.05       0.06   0.78\n",
       "Radio      0.05   1.00       0.35   0.58\n",
       "Newspaper  0.06   0.35       1.00   0.23\n",
       "Sales      0.78   0.58       0.23   1.00"
      ]
     },
     "execution_count": 66,
     "metadata": {},
     "output_type": "execute_result"
    }
   ],
   "source": [
    "data1.corr().round(2)"
   ]
  },
  {
   "cell_type": "code",
   "execution_count": 221,
   "id": "a821c996-f32c-447a-8022-9ea284af726c",
   "metadata": {},
   "outputs": [
    {
     "data": {
      "text/plain": [
       "<AxesSubplot:>"
      ]
     },
     "execution_count": 221,
     "metadata": {},
     "output_type": "execute_result"
    },
    {
     "data": {
      "image/png": "[encoded data removed]",
      "text/plain": [
       "<Figure size 432x288 with 2 Axes>"
      ]
     },
     "metadata": {
      "needs_background": "light"
     },
     "output_type": "display_data"
    }
   ],
   "source": [
    "sns.heatmap(data=data1.corr(),annot=True,vmin=0,vmax=1,cmap='YlGnBu')"
   ]
  },
  {
   "cell_type": "markdown",
   "id": "cab6c491-653a-4cc3-8b76-efb7c960a8b9",
   "metadata": {},
   "source": [
    "<font color='blue'>Advertisements on TV and Sales fig is having a high +ve correlation of 0.78\n",
    "Where as advertisements mode on TV with respect to Radio and Newspapers have no correlation and is almost 0\n",
    "Advertisements on Radio has a moderate correlation of 0.58 on Sales\n",
    "Advertisements on Newspapers has a very less correlation of 0.23 only\n",
    "There is a weak correlation between Newspaper and Radio advertisements</font>"
   ]
  },
  {
   "cell_type": "markdown",
   "id": "f4f73c35-694e-4067-ac59-8692657f42b2",
   "metadata": {},
   "source": [
    "# 5. Fit a linear regression model on the dataset"
   ]
  },
  {
   "cell_type": "markdown",
   "id": "7f91bb8e-8732-4610-8079-ce215f0e8e0a",
   "metadata": {},
   "source": [
    "<font color='blue'>Since  Sales is having good correlation will check the regression on these with Sales as dependent variable and other as independent variable</font>"
   ]
  },
  {
   "cell_type": "markdown",
   "id": "6b124cf6-eb70-4c6c-a56f-cfb8a512a8cb",
   "metadata": {},
   "source": [
    "# MODEL using OLS.Linear model "
   ]
  },
  {
   "cell_type": "code",
   "execution_count": 83,
   "id": "62751172-fc0b-4f0f-9dc8-ba69bb0b91c5",
   "metadata": {},
   "outputs": [
    {
     "data": {
      "text/html": [
       "<div>\n",
       "<style scoped>\n",
       "    .dataframe tbody tr th:only-of-type {\n",
       "        vertical-align: middle;\n",
       "    }\n",
       "\n",
       "    .dataframe tbody tr th {\n",
       "        vertical-align: top;\n",
       "    }\n",
       "\n",
       "    .dataframe thead th {\n",
       "        text-align: right;\n",
       "    }\n",
       "</style>\n",
       "<table border=\"1\" class=\"dataframe\">\n",
       "  <thead>\n",
       "    <tr style=\"text-align: right;\">\n",
       "      <th></th>\n",
       "      <th>Unnamed: 0</th>\n",
       "      <th>TV</th>\n",
       "      <th>Radio</th>\n",
       "      <th>Newspaper</th>\n",
       "      <th>Sales</th>\n",
       "    </tr>\n",
       "  </thead>\n",
       "  <tbody>\n",
       "    <tr>\n",
       "      <th>0</th>\n",
       "      <td>1</td>\n",
       "      <td>230.1</td>\n",
       "      <td>37.8</td>\n",
       "      <td>69.2</td>\n",
       "      <td>22.1</td>\n",
       "    </tr>\n",
       "    <tr>\n",
       "      <th>1</th>\n",
       "      <td>2</td>\n",
       "      <td>44.5</td>\n",
       "      <td>39.3</td>\n",
       "      <td>45.1</td>\n",
       "      <td>10.4</td>\n",
       "    </tr>\n",
       "    <tr>\n",
       "      <th>2</th>\n",
       "      <td>3</td>\n",
       "      <td>17.2</td>\n",
       "      <td>45.9</td>\n",
       "      <td>69.3</td>\n",
       "      <td>9.3</td>\n",
       "    </tr>\n",
       "    <tr>\n",
       "      <th>3</th>\n",
       "      <td>4</td>\n",
       "      <td>151.5</td>\n",
       "      <td>41.3</td>\n",
       "      <td>58.5</td>\n",
       "      <td>18.5</td>\n",
       "    </tr>\n",
       "    <tr>\n",
       "      <th>4</th>\n",
       "      <td>5</td>\n",
       "      <td>180.8</td>\n",
       "      <td>10.8</td>\n",
       "      <td>58.4</td>\n",
       "      <td>12.9</td>\n",
       "    </tr>\n",
       "    <tr>\n",
       "      <th>...</th>\n",
       "      <td>...</td>\n",
       "      <td>...</td>\n",
       "      <td>...</td>\n",
       "      <td>...</td>\n",
       "      <td>...</td>\n",
       "    </tr>\n",
       "    <tr>\n",
       "      <th>195</th>\n",
       "      <td>196</td>\n",
       "      <td>38.2</td>\n",
       "      <td>3.7</td>\n",
       "      <td>13.8</td>\n",
       "      <td>7.6</td>\n",
       "    </tr>\n",
       "    <tr>\n",
       "      <th>196</th>\n",
       "      <td>197</td>\n",
       "      <td>94.2</td>\n",
       "      <td>4.9</td>\n",
       "      <td>8.1</td>\n",
       "      <td>9.7</td>\n",
       "    </tr>\n",
       "    <tr>\n",
       "      <th>197</th>\n",
       "      <td>198</td>\n",
       "      <td>177.0</td>\n",
       "      <td>9.3</td>\n",
       "      <td>6.4</td>\n",
       "      <td>12.8</td>\n",
       "    </tr>\n",
       "    <tr>\n",
       "      <th>198</th>\n",
       "      <td>199</td>\n",
       "      <td>283.6</td>\n",
       "      <td>42.0</td>\n",
       "      <td>66.2</td>\n",
       "      <td>25.5</td>\n",
       "    </tr>\n",
       "    <tr>\n",
       "      <th>199</th>\n",
       "      <td>200</td>\n",
       "      <td>232.1</td>\n",
       "      <td>8.6</td>\n",
       "      <td>8.7</td>\n",
       "      <td>13.4</td>\n",
       "    </tr>\n",
       "  </tbody>\n",
       "</table>\n",
       "<p>200 rows × 5 columns</p>\n",
       "</div>"
      ],
      "text/plain": [
       "     Unnamed: 0     TV  Radio  Newspaper  Sales\n",
       "0             1  230.1   37.8       69.2   22.1\n",
       "1             2   44.5   39.3       45.1   10.4\n",
       "2             3   17.2   45.9       69.3    9.3\n",
       "3             4  151.5   41.3       58.5   18.5\n",
       "4             5  180.8   10.8       58.4   12.9\n",
       "..          ...    ...    ...        ...    ...\n",
       "195         196   38.2    3.7       13.8    7.6\n",
       "196         197   94.2    4.9        8.1    9.7\n",
       "197         198  177.0    9.3        6.4   12.8\n",
       "198         199  283.6   42.0       66.2   25.5\n",
       "199         200  232.1    8.6        8.7   13.4\n",
       "\n",
       "[200 rows x 5 columns]"
      ]
     },
     "execution_count": 83,
     "metadata": {},
     "output_type": "execute_result"
    }
   ],
   "source": [
    "data"
   ]
  },
  {
   "cell_type": "code",
   "execution_count": 225,
   "id": "bff784f5-a90b-4f64-876b-3dcc5218748d",
   "metadata": {},
   "outputs": [],
   "source": [
    "X=data.drop(['Sales','Unnamed: 0'],axis=1)\n",
    "Y=data[[\"Sales\"]]"
   ]
  },
  {
   "cell_type": "code",
   "execution_count": 226,
   "id": "c22e657d-7b44-4a19-8ee8-1ee475d5585c",
   "metadata": {},
   "outputs": [],
   "source": [
    "model = sm.OLS(Y,X).fit()"
   ]
  },
  {
   "cell_type": "code",
   "execution_count": 227,
   "id": "3e460868-ad8f-46d9-92c8-3fb5bfe1a0cd",
   "metadata": {},
   "outputs": [
    {
     "name": "stdout",
     "output_type": "stream",
     "text": [
      "                                 OLS Regression Results                                \n",
      "=======================================================================================\n",
      "Dep. Variable:                  Sales   R-squared (uncentered):                   0.982\n",
      "Model:                            OLS   Adj. R-squared (uncentered):              0.982\n",
      "Method:                 Least Squares   F-statistic:                              3566.\n",
      "Date:                Mon, 06 Dec 2021   Prob (F-statistic):                   2.43e-171\n",
      "Time:                        01:08:09   Log-Likelihood:                         -423.54\n",
      "No. Observations:                 200   AIC:                                      853.1\n",
      "Df Residuals:                     197   BIC:                                      863.0\n",
      "Df Model:                           3                                                  \n",
      "Covariance Type:            nonrobust                                                  \n",
      "==============================================================================\n",
      "                 coef    std err          t      P>|t|      [0.025      0.975]\n",
      "------------------------------------------------------------------------------\n",
      "TV             0.0538      0.001     40.507      0.000       0.051       0.056\n",
      "Radio          0.2222      0.009     23.595      0.000       0.204       0.241\n",
      "Newspaper      0.0168      0.007      2.517      0.013       0.004       0.030\n",
      "==============================================================================\n",
      "Omnibus:                        5.982   Durbin-Watson:                   2.038\n",
      "Prob(Omnibus):                  0.050   Jarque-Bera (JB):                7.039\n",
      "Skew:                          -0.232   Prob(JB):                       0.0296\n",
      "Kurtosis:                       3.794   Cond. No.                         12.6\n",
      "==============================================================================\n",
      "\n",
      "Notes:\n",
      "[1] R² is computed without centering (uncentered) since the model does not contain a constant.\n",
      "[2] Standard Errors assume that the covariance matrix of the errors is correctly specified.\n"
     ]
    }
   ],
   "source": [
    "print(model.summary())"
   ]
  },
  {
   "cell_type": "code",
   "execution_count": 228,
   "id": "116d5b21-6821-49ee-8d62-55e09c32ac24",
   "metadata": {},
   "outputs": [
    {
     "name": "stdout",
     "output_type": "stream",
     "text": [
      "0      21.941397\n",
      "1      11.885691\n",
      "2      12.290830\n",
      "3      18.311216\n",
      "4      13.107703\n",
      "         ...    \n",
      "195     3.109157\n",
      "196     6.292321\n",
      "197    11.695501\n",
      "198    25.702168\n",
      "199    14.542552\n",
      "Length: 200, dtype: float64\n"
     ]
    }
   ],
   "source": [
    "predictions = model.predict(X)\n",
    "print(predictions)"
   ]
  },
  {
   "cell_type": "code",
   "execution_count": 241,
   "id": "7f1555b3-c0ad-4e7c-9108-d22d82c3d90c",
   "metadata": {},
   "outputs": [],
   "source": [
    "model1=smf.ols(formula='Sales~TV',data=data).fit()"
   ]
  },
  {
   "cell_type": "code",
   "execution_count": 242,
   "id": "2fe42fb1-94b9-44fc-9cf3-457216fc5c54",
   "metadata": {},
   "outputs": [
    {
     "data": {
      "text/plain": [
       "Intercept    7.032594\n",
       "TV           0.047537\n",
       "dtype: float64"
      ]
     },
     "execution_count": 242,
     "metadata": {},
     "output_type": "execute_result"
    }
   ],
   "source": [
    "model1.params"
   ]
  },
  {
   "cell_type": "code",
   "execution_count": 239,
   "id": "1629fffd-392a-42f3-a0de-06afe398b3ee",
   "metadata": {},
   "outputs": [],
   "source": [
    "from sklearn.metrics import mean_squared_error"
   ]
  },
  {
   "cell_type": "code",
   "execution_count": 240,
   "id": "68782af2-1c41-466f-8633-970c6dd619e2",
   "metadata": {},
   "outputs": [
    {
     "name": "stdout",
     "output_type": "stream",
     "text": [
      "MSE : 4.04521507106605\n"
     ]
    }
   ],
   "source": [
    "print('MSE :',mean_squared_error(Y,predictions))"
   ]
  },
  {
   "cell_type": "markdown",
   "id": "0b6c9e65-f992-4f55-b42d-47564e515314",
   "metadata": {},
   "source": [
    "# MODEL using Sklearn model selection"
   ]
  },
  {
   "cell_type": "code",
   "execution_count": 161,
   "id": "8b60beca-4e73-42f0-bd98-b1c3877cc368",
   "metadata": {},
   "outputs": [
    {
     "data": {
      "text/plain": [
       "Index(['TV', 'Radio', 'Newspaper', 'Sales'], dtype='object')"
      ]
     },
     "execution_count": 161,
     "metadata": {},
     "output_type": "execute_result"
    }
   ],
   "source": [
    "data1.columns"
   ]
  },
  {
   "cell_type": "code",
   "execution_count": 186,
   "id": "72608a7b-0126-4ddf-bb86-a9e48a8a146c",
   "metadata": {},
   "outputs": [],
   "source": [
    "y=data1['Sales']\n",
    "x=data1.drop(['Sales'],axis=1)"
   ]
  },
  {
   "cell_type": "code",
   "execution_count": 187,
   "id": "3b3bcdb1-9419-44be-a5b6-91b432b1c75c",
   "metadata": {},
   "outputs": [],
   "source": [
    "from sklearn.model_selection import train_test_split"
   ]
  },
  {
   "cell_type": "code",
   "execution_count": 188,
   "id": "c159aa03-fe09-48e6-b2a2-631b95590411",
   "metadata": {},
   "outputs": [],
   "source": [
    "x_train,x_test,y_train,y_test=train_test_split(x,y,random_state=42,test_size=.25)"
   ]
  },
  {
   "cell_type": "code",
   "execution_count": 189,
   "id": "ced336f3-9b35-44f8-ba1a-5ba5759a3829",
   "metadata": {},
   "outputs": [],
   "source": [
    "from sklearn import linear_model"
   ]
  },
  {
   "cell_type": "code",
   "execution_count": 190,
   "id": "9a37f5da-18d5-4f4a-a3fe-a813bc5e25a0",
   "metadata": {},
   "outputs": [],
   "source": [
    "lr=linear_model.LinearRegression()"
   ]
  },
  {
   "cell_type": "code",
   "execution_count": 191,
   "id": "b07e716a-39be-446e-9d60-1d00053d63f7",
   "metadata": {},
   "outputs": [],
   "source": [
    "model=lr.fit(x_train,y_train)"
   ]
  },
  {
   "cell_type": "code",
   "execution_count": 192,
   "id": "0ee09332-f481-4eb2-943a-a589fd240b9f",
   "metadata": {},
   "outputs": [],
   "source": [
    "predictions =model.predict(x_test)"
   ]
  },
  {
   "cell_type": "code",
   "execution_count": 193,
   "id": "5ba1bb28-eb26-4998-b698-49b6357da1b3",
   "metadata": {},
   "outputs": [
    {
     "name": "stdout",
     "output_type": "stream",
     "text": [
      "95     16.9\n",
      "15     22.4\n",
      "30     21.4\n",
      "158     7.3\n",
      "128    24.7\n",
      "115    12.6\n",
      "69     22.3\n",
      "170     8.4\n",
      "174    11.5\n",
      "45     14.9\n",
      "66      9.5\n",
      "182     8.7\n",
      "165    11.9\n",
      "78      5.3\n",
      "186    10.3\n",
      "177    11.7\n",
      "56      5.5\n",
      "152    16.6\n",
      "82     11.3\n",
      "68     18.9\n",
      "124    19.7\n",
      "16     12.5\n",
      "148    10.9\n",
      "93     22.2\n",
      "65      9.3\n",
      "60      8.1\n",
      "84     21.7\n",
      "67     13.4\n",
      "125    10.6\n",
      "132     5.7\n",
      "9      10.6\n",
      "18     11.3\n",
      "55     23.7\n",
      "75      8.7\n",
      "150    16.1\n",
      "104    20.7\n",
      "135    11.6\n",
      "137    20.8\n",
      "164    11.9\n",
      "76      6.9\n",
      "79     11.0\n",
      "197    12.8\n",
      "38     10.1\n",
      "24      9.7\n",
      "122    11.6\n",
      "195     7.6\n",
      "29     10.5\n",
      "19     14.6\n",
      "143    10.4\n",
      "86     12.0\n",
      "Name: Sales, dtype: float64\n"
     ]
    }
   ],
   "source": [
    "print(y_test)"
   ]
  },
  {
   "cell_type": "code",
   "execution_count": 194,
   "id": "0c9601e6-48bc-413b-acbc-a77971005b1b",
   "metadata": {},
   "outputs": [
    {
     "name": "stdout",
     "output_type": "stream",
     "text": [
      "[16.38348211 20.92434957 21.61495426 10.49069997 22.17690456 13.02668085\n",
      " 21.10309295  7.31813008 13.56732111 15.12238649  8.92494113  6.49924401\n",
      " 14.30119928  8.77233515  9.58665483 12.09485291  8.59621605 16.25337881\n",
      " 10.16948105 18.85753401 19.5799036  13.15877029 12.25103735 21.35141984\n",
      "  7.69607607  5.64686906 20.79780073 11.90951247  9.06581044  8.37295611\n",
      " 12.40815899  9.89416076 21.42707658 12.14236853 18.28776857 20.18114718\n",
      " 13.99303029 20.89987736 10.9313953   4.38721626  9.58213448 12.6170249\n",
      "  9.93851933  8.06816257 13.45497849  5.25769423  9.15399537 14.09552838\n",
      "  8.71029827 11.55102817]\n"
     ]
    }
   ],
   "source": [
    "print(predictions)"
   ]
  },
  {
   "cell_type": "code",
   "execution_count": 195,
   "id": "992d5615-d98b-4b38-a4ed-a5996b6d5c62",
   "metadata": {},
   "outputs": [],
   "source": [
    "from sklearn.metrics import mean_squared_error"
   ]
  },
  {
   "cell_type": "code",
   "execution_count": 196,
   "id": "e82a97ae-69ec-4bf9-8377-a612b1984f70",
   "metadata": {},
   "outputs": [
    {
     "name": "stdout",
     "output_type": "stream",
     "text": [
      "MSE is 2.880023730094191\n"
     ]
    }
   ],
   "source": [
    "print('MSE is',mean_squared_error(y_test,predictions))"
   ]
  },
  {
   "cell_type": "code",
   "execution_count": 205,
   "id": "7477ca47-b3fd-44d7-8b6b-3919355b01cb",
   "metadata": {},
   "outputs": [
    {
     "data": {
      "text/plain": [
       "0.8935163320163658"
      ]
     },
     "execution_count": 205,
     "metadata": {},
     "output_type": "execute_result"
    }
   ],
   "source": [
    "# R squared\n",
    "model.score(x_test,y_test)"
   ]
  },
  {
   "cell_type": "markdown",
   "id": "d13385d0-a883-40f4-b85e-8184007cc986",
   "metadata": {},
   "source": [
    "<font color='blue'>OLS prediction model explains 98.20 % of variation  data with MSE of 4.045 for full sample size 200\n",
    "where as Sklearn linear regression explain 89.35% data with MSE of 2.88 for test sample of  50</font>"
   ]
  }
 ],
 "metadata": {
  "kernelspec": {
   "display_name": "Python 3 (ipykernel)",
   "language": "python",
   "name": "python3"
  },
  "language_info": {
   "codemirror_mode": {
    "name": "ipython",
    "version": 3
   },
   "file_extension": ".py",
   "mimetype": "text/x-python",
   "name": "python",
   "nbconvert_exporter": "python",
   "pygments_lexer": "ipython3",
   "version": "3.8.8"
  }
 },
 "nbformat": 4,
 "nbformat_minor": 5
}
