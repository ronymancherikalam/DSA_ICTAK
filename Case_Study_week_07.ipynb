{
 "cells": [
  {
   "cell_type": "markdown",
   "id": "fd3c0ca2-0439-4ece-9427-3c7c541ca5ea",
   "metadata": {},
   "source": [
    "# adding libraries"
   ]
  },
  {
   "cell_type": "code",
   "execution_count": 1,
   "id": "6e3927ff-4d28-403c-91ed-ec49a81e9281",
   "metadata": {},
   "outputs": [],
   "source": [
    "import numpy as np\n",
    "import pandas as pd\n",
    "import seaborn as sns\n",
    "import matplotlib.pyplot as plt"
   ]
  },
  {
   "cell_type": "markdown",
   "id": "43425ba5-fcc5-47e5-a368-571c90537d52",
   "metadata": {},
   "source": [
    "# reading file"
   ]
  },
  {
   "cell_type": "code",
   "execution_count": 2,
   "id": "e7e78026-644e-4bc9-9aac-a2bf0c8238ec",
   "metadata": {},
   "outputs": [],
   "source": [
    "data=pd.read_csv('Add_sales_data_2018.csv')"
   ]
  },
  {
   "cell_type": "code",
   "execution_count": 3,
   "id": "fc723d3c-7a65-45da-ae66-32cd662c38e7",
   "metadata": {},
   "outputs": [
    {
     "data": {
      "text/html": [
       "<div>\n",
       "<style scoped>\n",
       "    .dataframe tbody tr th:only-of-type {\n",
       "        vertical-align: middle;\n",
       "    }\n",
       "\n",
       "    .dataframe tbody tr th {\n",
       "        vertical-align: top;\n",
       "    }\n",
       "\n",
       "    .dataframe thead th {\n",
       "        text-align: right;\n",
       "    }\n",
       "</style>\n",
       "<table border=\"1\" class=\"dataframe\">\n",
       "  <thead>\n",
       "    <tr style=\"text-align: right;\">\n",
       "      <th></th>\n",
       "      <th>Date</th>\n",
       "      <th>Add1(in Thousands)</th>\n",
       "      <th>Add2(in Thousands)</th>\n",
       "      <th>Add3(in Thousands)</th>\n",
       "      <th>Add4(in Thousands)</th>\n",
       "      <th>Add5(in Thousands)</th>\n",
       "      <th>Profit(in Thousands)</th>\n",
       "    </tr>\n",
       "  </thead>\n",
       "  <tbody>\n",
       "    <tr>\n",
       "      <th>0</th>\n",
       "      <td>2018-10-08</td>\n",
       "      <td>208.00</td>\n",
       "      <td>222.25</td>\n",
       "      <td>206.85</td>\n",
       "      <td>216.00</td>\n",
       "      <td>215.15</td>\n",
       "      <td>4093.065</td>\n",
       "    </tr>\n",
       "    <tr>\n",
       "      <th>1</th>\n",
       "      <td>2018-10-05</td>\n",
       "      <td>217.00</td>\n",
       "      <td>218.60</td>\n",
       "      <td>205.90</td>\n",
       "      <td>210.25</td>\n",
       "      <td>209.20</td>\n",
       "      <td>4042.448</td>\n",
       "    </tr>\n",
       "    <tr>\n",
       "      <th>2</th>\n",
       "      <td>2018-10-04</td>\n",
       "      <td>223.50</td>\n",
       "      <td>227.80</td>\n",
       "      <td>216.15</td>\n",
       "      <td>217.25</td>\n",
       "      <td>218.20</td>\n",
       "      <td>4213.819</td>\n",
       "    </tr>\n",
       "    <tr>\n",
       "      <th>3</th>\n",
       "      <td>2018-10-03</td>\n",
       "      <td>230.00</td>\n",
       "      <td>237.50</td>\n",
       "      <td>225.75</td>\n",
       "      <td>226.45</td>\n",
       "      <td>227.60</td>\n",
       "      <td>4391.665</td>\n",
       "    </tr>\n",
       "    <tr>\n",
       "      <th>4</th>\n",
       "      <td>2018-10-01</td>\n",
       "      <td>234.55</td>\n",
       "      <td>234.60</td>\n",
       "      <td>221.05</td>\n",
       "      <td>230.30</td>\n",
       "      <td>230.90</td>\n",
       "      <td>4350.683</td>\n",
       "    </tr>\n",
       "  </tbody>\n",
       "</table>\n",
       "</div>"
      ],
      "text/plain": [
       "         Date  Add1(in Thousands)  Add2(in Thousands)  Add3(in Thousands)  \\\n",
       "0  2018-10-08              208.00              222.25              206.85   \n",
       "1  2018-10-05              217.00              218.60              205.90   \n",
       "2  2018-10-04              223.50              227.80              216.15   \n",
       "3  2018-10-03              230.00              237.50              225.75   \n",
       "4  2018-10-01              234.55              234.60              221.05   \n",
       "\n",
       "   Add4(in Thousands)  Add5(in Thousands)  Profit(in Thousands)  \n",
       "0              216.00              215.15              4093.065  \n",
       "1              210.25              209.20              4042.448  \n",
       "2              217.25              218.20              4213.819  \n",
       "3              226.45              227.60              4391.665  \n",
       "4              230.30              230.90              4350.683  "
      ]
     },
     "execution_count": 3,
     "metadata": {},
     "output_type": "execute_result"
    }
   ],
   "source": [
    "data.head()"
   ]
  },
  {
   "cell_type": "code",
   "execution_count": 4,
   "id": "07d86343-03af-4130-b8e2-add0977b9b17",
   "metadata": {},
   "outputs": [
    {
     "name": "stdout",
     "output_type": "stream",
     "text": [
      "<class 'pandas.core.frame.DataFrame'>\n",
      "RangeIndex: 205 entries, 0 to 204\n",
      "Data columns (total 7 columns):\n",
      " #   Column                Non-Null Count  Dtype  \n",
      "---  ------                --------------  -----  \n",
      " 0   Date                  205 non-null    object \n",
      " 1   Add1(in Thousands)    205 non-null    float64\n",
      " 2   Add2(in Thousands)    205 non-null    float64\n",
      " 3   Add3(in Thousands)    205 non-null    float64\n",
      " 4   Add4(in Thousands)    205 non-null    float64\n",
      " 5   Add5(in Thousands)    205 non-null    float64\n",
      " 6   Profit(in Thousands)  205 non-null    float64\n",
      "dtypes: float64(6), object(1)\n",
      "memory usage: 11.3+ KB\n"
     ]
    }
   ],
   "source": [
    "data.info()"
   ]
  },
  {
   "cell_type": "code",
   "execution_count": 5,
   "id": "2317d343-859f-4afd-82db-c6b6aaa43313",
   "metadata": {},
   "outputs": [
    {
     "data": {
      "text/html": [
       "<div>\n",
       "<style scoped>\n",
       "    .dataframe tbody tr th:only-of-type {\n",
       "        vertical-align: middle;\n",
       "    }\n",
       "\n",
       "    .dataframe tbody tr th {\n",
       "        vertical-align: top;\n",
       "    }\n",
       "\n",
       "    .dataframe thead th {\n",
       "        text-align: right;\n",
       "    }\n",
       "</style>\n",
       "<table border=\"1\" class=\"dataframe\">\n",
       "  <thead>\n",
       "    <tr style=\"text-align: right;\">\n",
       "      <th></th>\n",
       "      <th>count</th>\n",
       "      <th>mean</th>\n",
       "      <th>std</th>\n",
       "      <th>min</th>\n",
       "      <th>25%</th>\n",
       "      <th>50%</th>\n",
       "      <th>75%</th>\n",
       "      <th>max</th>\n",
       "    </tr>\n",
       "  </thead>\n",
       "  <tbody>\n",
       "    <tr>\n",
       "      <th>Add1(in Thousands)</th>\n",
       "      <td>205.0</td>\n",
       "      <td>267.577561</td>\n",
       "      <td>26.219588</td>\n",
       "      <td>208.000</td>\n",
       "      <td>244.000</td>\n",
       "      <td>269.700</td>\n",
       "      <td>284.400</td>\n",
       "      <td>327.70</td>\n",
       "    </tr>\n",
       "    <tr>\n",
       "      <th>Add2(in Thousands)</th>\n",
       "      <td>205.0</td>\n",
       "      <td>271.722439</td>\n",
       "      <td>25.914939</td>\n",
       "      <td>218.600</td>\n",
       "      <td>248.500</td>\n",
       "      <td>274.200</td>\n",
       "      <td>288.800</td>\n",
       "      <td>328.75</td>\n",
       "    </tr>\n",
       "    <tr>\n",
       "      <th>Add3(in Thousands)</th>\n",
       "      <td>205.0</td>\n",
       "      <td>262.990732</td>\n",
       "      <td>26.126704</td>\n",
       "      <td>205.900</td>\n",
       "      <td>240.300</td>\n",
       "      <td>263.250</td>\n",
       "      <td>280.900</td>\n",
       "      <td>321.65</td>\n",
       "    </tr>\n",
       "    <tr>\n",
       "      <th>Add4(in Thousands)</th>\n",
       "      <td>205.0</td>\n",
       "      <td>267.223902</td>\n",
       "      <td>26.238832</td>\n",
       "      <td>210.250</td>\n",
       "      <td>243.050</td>\n",
       "      <td>268.900</td>\n",
       "      <td>284.500</td>\n",
       "      <td>325.95</td>\n",
       "    </tr>\n",
       "    <tr>\n",
       "      <th>Add5(in Thousands)</th>\n",
       "      <td>205.0</td>\n",
       "      <td>267.152683</td>\n",
       "      <td>26.215360</td>\n",
       "      <td>209.200</td>\n",
       "      <td>243.000</td>\n",
       "      <td>268.350</td>\n",
       "      <td>284.450</td>\n",
       "      <td>325.75</td>\n",
       "    </tr>\n",
       "    <tr>\n",
       "      <th>Profit(in Thousands)</th>\n",
       "      <td>205.0</td>\n",
       "      <td>5059.630234</td>\n",
       "      <td>486.910414</td>\n",
       "      <td>4042.448</td>\n",
       "      <td>4617.695</td>\n",
       "      <td>5088.455</td>\n",
       "      <td>5387.438</td>\n",
       "      <td>6137.80</td>\n",
       "    </tr>\n",
       "  </tbody>\n",
       "</table>\n",
       "</div>"
      ],
      "text/plain": [
       "                      count         mean         std       min       25%  \\\n",
       "Add1(in Thousands)    205.0   267.577561   26.219588   208.000   244.000   \n",
       "Add2(in Thousands)    205.0   271.722439   25.914939   218.600   248.500   \n",
       "Add3(in Thousands)    205.0   262.990732   26.126704   205.900   240.300   \n",
       "Add4(in Thousands)    205.0   267.223902   26.238832   210.250   243.050   \n",
       "Add5(in Thousands)    205.0   267.152683   26.215360   209.200   243.000   \n",
       "Profit(in Thousands)  205.0  5059.630234  486.910414  4042.448  4617.695   \n",
       "\n",
       "                           50%       75%      max  \n",
       "Add1(in Thousands)     269.700   284.400   327.70  \n",
       "Add2(in Thousands)     274.200   288.800   328.75  \n",
       "Add3(in Thousands)     263.250   280.900   321.65  \n",
       "Add4(in Thousands)     268.900   284.500   325.95  \n",
       "Add5(in Thousands)     268.350   284.450   325.75  \n",
       "Profit(in Thousands)  5088.455  5387.438  6137.80  "
      ]
     },
     "execution_count": 5,
     "metadata": {},
     "output_type": "execute_result"
    }
   ],
   "source": [
    "data.describe().transpose()"
   ]
  },
  {
   "cell_type": "markdown",
   "id": "1f9f46b3-ce67-49e7-87eb-8b7ba21c6ef2",
   "metadata": {},
   "source": [
    "# data is having 6 columns with money spent on 5 add companies  and corresponding profit figure.\n",
    "# There are no null values"
   ]
  },
  {
   "cell_type": "code",
   "execution_count": 6,
   "id": "69623544-d5c4-4434-895e-9c46a411025b",
   "metadata": {},
   "outputs": [
    {
     "data": {
      "text/html": [
       "<div>\n",
       "<style scoped>\n",
       "    .dataframe tbody tr th:only-of-type {\n",
       "        vertical-align: middle;\n",
       "    }\n",
       "\n",
       "    .dataframe tbody tr th {\n",
       "        vertical-align: top;\n",
       "    }\n",
       "\n",
       "    .dataframe thead th {\n",
       "        text-align: right;\n",
       "    }\n",
       "</style>\n",
       "<table border=\"1\" class=\"dataframe\">\n",
       "  <thead>\n",
       "    <tr style=\"text-align: right;\">\n",
       "      <th></th>\n",
       "      <th>Add1(in Thousands)</th>\n",
       "      <th>Add2(in Thousands)</th>\n",
       "      <th>Add3(in Thousands)</th>\n",
       "      <th>Add4(in Thousands)</th>\n",
       "      <th>Add5(in Thousands)</th>\n",
       "      <th>Profit(in Thousands)</th>\n",
       "    </tr>\n",
       "  </thead>\n",
       "  <tbody>\n",
       "    <tr>\n",
       "      <th>Add1(in Thousands)</th>\n",
       "      <td>1.000000</td>\n",
       "      <td>0.990976</td>\n",
       "      <td>0.986274</td>\n",
       "      <td>0.976365</td>\n",
       "      <td>0.976716</td>\n",
       "      <td>0.991975</td>\n",
       "    </tr>\n",
       "    <tr>\n",
       "      <th>Add2(in Thousands)</th>\n",
       "      <td>0.990976</td>\n",
       "      <td>1.000000</td>\n",
       "      <td>0.987990</td>\n",
       "      <td>0.989921</td>\n",
       "      <td>0.990285</td>\n",
       "      <td>0.999145</td>\n",
       "    </tr>\n",
       "    <tr>\n",
       "      <th>Add3(in Thousands)</th>\n",
       "      <td>0.986274</td>\n",
       "      <td>0.987990</td>\n",
       "      <td>1.000000</td>\n",
       "      <td>0.991343</td>\n",
       "      <td>0.991908</td>\n",
       "      <td>0.993389</td>\n",
       "    </tr>\n",
       "    <tr>\n",
       "      <th>Add4(in Thousands)</th>\n",
       "      <td>0.976365</td>\n",
       "      <td>0.989921</td>\n",
       "      <td>0.991343</td>\n",
       "      <td>1.000000</td>\n",
       "      <td>0.999699</td>\n",
       "      <td>0.993346</td>\n",
       "    </tr>\n",
       "    <tr>\n",
       "      <th>Add5(in Thousands)</th>\n",
       "      <td>0.976716</td>\n",
       "      <td>0.990285</td>\n",
       "      <td>0.991908</td>\n",
       "      <td>0.999699</td>\n",
       "      <td>1.000000</td>\n",
       "      <td>0.993710</td>\n",
       "    </tr>\n",
       "    <tr>\n",
       "      <th>Profit(in Thousands)</th>\n",
       "      <td>0.991975</td>\n",
       "      <td>0.999145</td>\n",
       "      <td>0.993389</td>\n",
       "      <td>0.993346</td>\n",
       "      <td>0.993710</td>\n",
       "      <td>1.000000</td>\n",
       "    </tr>\n",
       "  </tbody>\n",
       "</table>\n",
       "</div>"
      ],
      "text/plain": [
       "                      Add1(in Thousands)  Add2(in Thousands)  \\\n",
       "Add1(in Thousands)              1.000000            0.990976   \n",
       "Add2(in Thousands)              0.990976            1.000000   \n",
       "Add3(in Thousands)              0.986274            0.987990   \n",
       "Add4(in Thousands)              0.976365            0.989921   \n",
       "Add5(in Thousands)              0.976716            0.990285   \n",
       "Profit(in Thousands)            0.991975            0.999145   \n",
       "\n",
       "                      Add3(in Thousands)  Add4(in Thousands)  \\\n",
       "Add1(in Thousands)              0.986274            0.976365   \n",
       "Add2(in Thousands)              0.987990            0.989921   \n",
       "Add3(in Thousands)              1.000000            0.991343   \n",
       "Add4(in Thousands)              0.991343            1.000000   \n",
       "Add5(in Thousands)              0.991908            0.999699   \n",
       "Profit(in Thousands)            0.993389            0.993346   \n",
       "\n",
       "                      Add5(in Thousands)  Profit(in Thousands)  \n",
       "Add1(in Thousands)              0.976716              0.991975  \n",
       "Add2(in Thousands)              0.990285              0.999145  \n",
       "Add3(in Thousands)              0.991908              0.993389  \n",
       "Add4(in Thousands)              0.999699              0.993346  \n",
       "Add5(in Thousands)              1.000000              0.993710  \n",
       "Profit(in Thousands)            0.993710              1.000000  "
      ]
     },
     "execution_count": 6,
     "metadata": {},
     "output_type": "execute_result"
    }
   ],
   "source": [
    "data.corr()"
   ]
  },
  {
   "cell_type": "code",
   "execution_count": 7,
   "id": "921d7818-e823-48df-a30c-772525581514",
   "metadata": {},
   "outputs": [
    {
     "data": {
      "text/plain": [
       "<AxesSubplot:>"
      ]
     },
     "execution_count": 7,
     "metadata": {},
     "output_type": "execute_result"
    },
    {
     "data": {
      "image/png": "[encoded data removed]",
      "text/plain": [
       "<Figure size 720x432 with 2 Axes>"
      ]
     },
     "metadata": {
      "needs_background": "light"
     },
     "output_type": "display_data"
    }
   ],
   "source": [
    "plt.figure(figsize=(10,6))\n",
    "sns.heatmap(data=data.corr(),vmin=0.90,vmax=1,annot=True,cmap='viridis')"
   ]
  },
  {
   "cell_type": "markdown",
   "id": "14f1f5d5-ba42-4562-84b0-a0cd9d7b1136",
   "metadata": {},
   "source": [
    "# the add spent and profit and higly positive correlated and a very small change in add spend will have \n",
    "# huge impact on profit"
   ]
  },
  {
   "cell_type": "markdown",
   "id": "676e7a4d-5f90-4855-9349-523d3d385c0e",
   "metadata": {},
   "source": [
    "# splitting data to dependent variable(y) and independent variable(X)"
   ]
  },
  {
   "cell_type": "code",
   "execution_count": 8,
   "id": "7925372d-6753-4121-8cc0-474e294537cc",
   "metadata": {},
   "outputs": [],
   "source": [
    "X=data.drop(['Profit(in Thousands)','Date'],axis=1)\n",
    "y=data['Profit(in Thousands)']"
   ]
  },
  {
   "cell_type": "markdown",
   "id": "48894f2b-5bf4-48b6-b614-39c260d2bef6",
   "metadata": {},
   "source": [
    "# creating training and testing set"
   ]
  },
  {
   "cell_type": "code",
   "execution_count": 9,
   "id": "11021548-40b4-4fd3-a5b8-3c804fb8f701",
   "metadata": {},
   "outputs": [],
   "source": [
    "from sklearn.model_selection import train_test_split\n",
    "X_train,X_test,y_train,y_test=train_test_split(X,y,random_state=42,test_size=.25)"
   ]
  },
  {
   "cell_type": "markdown",
   "id": "926bb883-54f2-4cab-9bba-d04a26fe35af",
   "metadata": {},
   "source": [
    "# importing model and fitting"
   ]
  },
  {
   "cell_type": "code",
   "execution_count": 10,
   "id": "1331f76a-bb23-4610-ac42-ec37413ca7ff",
   "metadata": {},
   "outputs": [],
   "source": [
    "from sklearn import linear_model\n",
    "lr=linear_model.LinearRegression()"
   ]
  },
  {
   "cell_type": "code",
   "execution_count": 11,
   "id": "a3255be4-7a0b-4f7e-9308-a70776696f88",
   "metadata": {},
   "outputs": [],
   "source": [
    "model=lr.fit(X_train,y_train)"
   ]
  },
  {
   "cell_type": "code",
   "execution_count": 12,
   "id": "bace7838-6f0f-4d66-b227-30e4fba52f69",
   "metadata": {},
   "outputs": [],
   "source": [
    "predictions= model.predict(X_test)"
   ]
  },
  {
   "cell_type": "code",
   "execution_count": 13,
   "id": "48bae7ee-9061-4e0a-8c46-076c5d20b668",
   "metadata": {},
   "outputs": [
    {
     "name": "stdout",
     "output_type": "stream",
     "text": [
      "15     4152.066\n",
      "9      4446.441\n",
      "100    5131.898\n",
      "132    4907.560\n",
      "68     5004.282\n",
      "95     4623.793\n",
      "159    5384.175\n",
      "162    5328.025\n",
      "147    5175.051\n",
      "182    5956.323\n",
      "191    5780.799\n",
      "164    4997.719\n",
      "65     5075.858\n",
      "175    5784.540\n",
      "73     4936.120\n",
      "152    5065.652\n",
      "18     4190.965\n",
      "82     5034.726\n",
      "86     5015.536\n",
      "143    5134.657\n",
      "60     5145.131\n",
      "101    5421.940\n",
      "98     4569.293\n",
      "30     4598.292\n",
      "25     4436.321\n",
      "16     4175.677\n",
      "168    5616.791\n",
      "195    5667.250\n",
      "97     4648.834\n",
      "194    5717.838\n",
      "67     5001.615\n",
      "120    5182.368\n",
      "154    5017.503\n",
      "202    5545.013\n",
      "79     5013.207\n",
      "69     5030.451\n",
      "145    5108.626\n",
      "55     4760.877\n",
      "45     4606.340\n",
      "84     4925.861\n",
      "146    5250.788\n",
      "66     5038.222\n",
      "111    5491.792\n",
      "153    5019.997\n",
      "96     4647.356\n",
      "38     4486.380\n",
      "24     4435.174\n",
      "139    5300.437\n",
      "112    5425.190\n",
      "29     4482.183\n",
      "19     4193.095\n",
      "178    6062.457\n",
      "Name: Profit(in Thousands), dtype: float64\n"
     ]
    }
   ],
   "source": [
    "print(y_test)"
   ]
  },
  {
   "cell_type": "code",
   "execution_count": 14,
   "id": "22ebeeaa-2adb-4de8-9f09-03b78be35d84",
   "metadata": {},
   "outputs": [
    {
     "data": {
      "text/plain": [
       "array([4152.066, 4446.441, 5131.898, 4907.56 , 5004.282, 4623.793,\n",
       "       5384.175, 5328.025, 5175.051, 5956.323, 5780.799, 4997.719,\n",
       "       5075.858, 5784.54 , 4936.12 , 5065.652, 4190.965, 5034.726,\n",
       "       5015.536, 5134.657, 5145.131, 5421.94 , 4569.293, 4598.292,\n",
       "       4436.321, 4175.677, 5616.791, 5667.25 , 4648.834, 5717.838,\n",
       "       5001.615, 5182.368, 5017.503, 5545.013, 5013.207, 5030.451,\n",
       "       5108.626, 4760.877, 4606.34 , 4925.861, 5250.788, 5038.222,\n",
       "       5491.792, 5019.997, 4647.356, 4486.38 , 4435.174, 5300.437,\n",
       "       5425.19 , 4482.183, 4193.095, 6062.457])"
      ]
     },
     "execution_count": 14,
     "metadata": {},
     "output_type": "execute_result"
    }
   ],
   "source": [
    "predictions"
   ]
  },
  {
   "cell_type": "code",
   "execution_count": 15,
   "id": "bf429752-8ed5-4ac7-a76a-0b17d5ebf664",
   "metadata": {},
   "outputs": [
    {
     "data": {
      "text/plain": [
       "1.0"
      ]
     },
     "execution_count": 15,
     "metadata": {},
     "output_type": "execute_result"
    }
   ],
   "source": [
    "# R squared\n",
    "model.score(X,y)"
   ]
  },
  {
   "cell_type": "markdown",
   "id": "a7150e31-a09d-4ce4-a646-9da41fbfa725",
   "metadata": {},
   "source": [
    "since correlation is very high between variables linear regression model is predicting test sample values itself\n",
    "R squared is coming as 1 which means its a perfect fit as per linear regression technique\n",
    " But since all correlation is not 1 there is some chance of error"
   ]
  },
  {
   "cell_type": "markdown",
   "id": "11b1e879-3523-4db2-bded-97ddadfc69af",
   "metadata": {},
   "source": [
    "# Using Partial least squared regression model to find a best fit"
   ]
  },
  {
   "cell_type": "code",
   "execution_count": 16,
   "id": "30af2bc7-f9ea-443b-b5b8-d60bf21e5040",
   "metadata": {},
   "outputs": [],
   "source": [
    "from sklearn.cross_decomposition import PLSRegression"
   ]
  },
  {
   "cell_type": "code",
   "execution_count": 17,
   "id": "c42e16f9-1723-4bd2-a8e7-c0562c6c8cf5",
   "metadata": {},
   "outputs": [
    {
     "data": {
      "text/plain": [
       "PLSRegression()"
      ]
     },
     "execution_count": 17,
     "metadata": {},
     "output_type": "execute_result"
    }
   ],
   "source": [
    "model1 = PLSRegression(n_components=2)\n",
    "model1.fit(X, y)"
   ]
  },
  {
   "cell_type": "code",
   "execution_count": 30,
   "id": "6ee699c3-6e79-4b79-a9be-d3cd68e9627e",
   "metadata": {},
   "outputs": [],
   "source": [
    "plsprediction = model1.predict(X)"
   ]
  },
  {
   "cell_type": "code",
   "execution_count": 31,
   "id": "b549dfd8-b3df-4c78-b6d2-9db2c018770a",
   "metadata": {},
   "outputs": [
    {
     "name": "stdout",
     "output_type": "stream",
     "text": [
      "15     4152.066\n",
      "9      4446.441\n",
      "100    5131.898\n",
      "132    4907.560\n",
      "68     5004.282\n",
      "95     4623.793\n",
      "159    5384.175\n",
      "162    5328.025\n",
      "147    5175.051\n",
      "182    5956.323\n",
      "191    5780.799\n",
      "164    4997.719\n",
      "65     5075.858\n",
      "175    5784.540\n",
      "73     4936.120\n",
      "152    5065.652\n",
      "18     4190.965\n",
      "82     5034.726\n",
      "86     5015.536\n",
      "143    5134.657\n",
      "60     5145.131\n",
      "101    5421.940\n",
      "98     4569.293\n",
      "30     4598.292\n",
      "25     4436.321\n",
      "16     4175.677\n",
      "168    5616.791\n",
      "195    5667.250\n",
      "97     4648.834\n",
      "194    5717.838\n",
      "67     5001.615\n",
      "120    5182.368\n",
      "154    5017.503\n",
      "202    5545.013\n",
      "79     5013.207\n",
      "69     5030.451\n",
      "145    5108.626\n",
      "55     4760.877\n",
      "45     4606.340\n",
      "84     4925.861\n",
      "146    5250.788\n",
      "66     5038.222\n",
      "111    5491.792\n",
      "153    5019.997\n",
      "96     4647.356\n",
      "38     4486.380\n",
      "24     4435.174\n",
      "139    5300.437\n",
      "112    5425.190\n",
      "29     4482.183\n",
      "19     4193.095\n",
      "178    6062.457\n",
      "Name: Profit(in Thousands), dtype: float64\n"
     ]
    }
   ],
   "source": [
    "print(y_test)"
   ]
  },
  {
   "cell_type": "code",
   "execution_count": 39,
   "id": "f13ffe59-2086-4d6d-a37b-6c51717dbd89",
   "metadata": {},
   "outputs": [
    {
     "data": {
      "text/plain": [
       "array([[4053.68892165],\n",
       "       [4049.66963937],\n",
       "       [4204.45098398],\n",
       "       [4366.8684526 ],\n",
       "       [4377.98102399],\n",
       "       [4418.28031121],\n",
       "       [4428.09619675],\n",
       "       [4486.65936343],\n",
       "       [4435.03145438],\n",
       "       [4438.26468376],\n",
       "       [4427.79888486],\n",
       "       [4449.11307467],\n",
       "       [4475.57793   ],\n",
       "       [4440.01823857],\n",
       "       [4352.14700015],\n",
       "       [4151.07088211],\n",
       "       [4173.29326019],\n",
       "       [4274.65012733],\n",
       "       [4199.86777447],\n",
       "       [4208.0817622 ],\n",
       "       [4193.60944944],\n",
       "       [4393.05293925],\n",
       "       [4503.87267914],\n",
       "       [4469.16750668],\n",
       "       [4452.03586218],\n",
       "       [4437.69809995],\n",
       "       [4456.44932451],\n",
       "       [4445.32553061],\n",
       "       [4418.16203194],\n",
       "       [4497.44083947],\n",
       "       [4611.98376318],\n",
       "       [4624.39669806],\n",
       "       [4572.79438093],\n",
       "       [4509.82335593],\n",
       "       [4468.31748319],\n",
       "       [4426.09786533],\n",
       "       [4450.86356837],\n",
       "       [4485.86688065],\n",
       "       [4488.63836042],\n",
       "       [4521.77546673],\n",
       "       [4490.31399513],\n",
       "       [4458.73811507],\n",
       "       [4431.42027008],\n",
       "       [4639.55610556],\n",
       "       [4644.59315067],\n",
       "       [4608.95775702],\n",
       "       [4567.97208718],\n",
       "       [4509.56170341],\n",
       "       [4604.26993405],\n",
       "       [4642.60892138],\n",
       "       [4553.53184479],\n",
       "       [4461.55813376],\n",
       "       [4489.83973817],\n",
       "       [4612.6148619 ],\n",
       "       [4649.59028376],\n",
       "       [4762.96832423],\n",
       "       [4955.46097479],\n",
       "       [5072.15042069],\n",
       "       [5145.35987703],\n",
       "       [5199.65245563],\n",
       "       [5138.244204  ],\n",
       "       [5083.49693694],\n",
       "       [5218.41959472],\n",
       "       [5267.35122264],\n",
       "       [5186.88896543],\n",
       "       [5075.47814646],\n",
       "       [5031.75348807],\n",
       "       [4996.43434129],\n",
       "       [5007.78585351],\n",
       "       [5026.66103839],\n",
       "       [4969.36993167],\n",
       "       [4915.67282655],\n",
       "       [4889.05223715],\n",
       "       [4950.11774473],\n",
       "       [5123.16928074],\n",
       "       [5164.48169891],\n",
       "       [5224.58657007],\n",
       "       [5177.93134595],\n",
       "       [5065.53875252],\n",
       "       [5012.15509517],\n",
       "       [5028.43181145],\n",
       "       [5022.71473117],\n",
       "       [5042.74101865],\n",
       "       [4987.68458358],\n",
       "       [4915.38711089],\n",
       "       [4929.48637124],\n",
       "       [5034.15171574],\n",
       "       [5061.98440745],\n",
       "       [4917.32101899],\n",
       "       [4889.03254094],\n",
       "       [4879.38310096],\n",
       "       [4830.66197687],\n",
       "       [4772.09400411],\n",
       "       [4702.17567605],\n",
       "       [4664.64443753],\n",
       "       [4623.10259051],\n",
       "       [4661.06707445],\n",
       "       [4647.33506015],\n",
       "       [4564.09397627],\n",
       "       [4758.05314313],\n",
       "       [5116.5178207 ],\n",
       "       [5412.55646588],\n",
       "       [5461.52463095],\n",
       "       [5496.79594441],\n",
       "       [5529.64999537],\n",
       "       [5508.2989332 ],\n",
       "       [5431.43095552],\n",
       "       [5466.34349276],\n",
       "       [5581.80084519],\n",
       "       [5580.77889143],\n",
       "       [5522.28178035],\n",
       "       [5504.56130603],\n",
       "       [5413.29381154],\n",
       "       [5365.40048608],\n",
       "       [5391.28082317],\n",
       "       [5403.0793169 ],\n",
       "       [5401.0223768 ],\n",
       "       [5358.15088553],\n",
       "       [5320.35577338],\n",
       "       [5227.23099393],\n",
       "       [5188.92643432],\n",
       "       [5183.33081328],\n",
       "       [5185.21935076],\n",
       "       [5249.90505389],\n",
       "       [5233.03551667],\n",
       "       [5167.28009033],\n",
       "       [5177.28654848],\n",
       "       [5185.36327029],\n",
       "       [5198.42547917],\n",
       "       [5096.26415234],\n",
       "       [4925.13472942],\n",
       "       [4981.14564201],\n",
       "       [4913.56234544],\n",
       "       [4815.69750517],\n",
       "       [4948.10535435],\n",
       "       [4991.08886951],\n",
       "       [4925.90632411],\n",
       "       [5055.09505331],\n",
       "       [5245.13451034],\n",
       "       [5287.17643465],\n",
       "       [5243.3847611 ],\n",
       "       [5251.77872946],\n",
       "       [5160.08130004],\n",
       "       [5145.69056541],\n",
       "       [5123.72968589],\n",
       "       [5114.01390371],\n",
       "       [5230.45228176],\n",
       "       [5190.27138686],\n",
       "       [5197.52513144],\n",
       "       [5181.12005325],\n",
       "       [5210.98512703],\n",
       "       [5162.67024093],\n",
       "       [5059.57861418],\n",
       "       [5013.51509442],\n",
       "       [5022.17410496],\n",
       "       [5059.71182137],\n",
       "       [5151.33297396],\n",
       "       [5263.45067706],\n",
       "       [5323.64572583],\n",
       "       [5389.04180196],\n",
       "       [5373.70657173],\n",
       "       [5200.81680189],\n",
       "       [5323.85440738],\n",
       "       [5229.2792394 ],\n",
       "       [4978.44381728],\n",
       "       [5094.84729877],\n",
       "       [5263.58566533],\n",
       "       [5467.72593072],\n",
       "       [5619.51134978],\n",
       "       [5721.76600353],\n",
       "       [5733.42392939],\n",
       "       [5772.59165388],\n",
       "       [5778.7911212 ],\n",
       "       [5822.61947686],\n",
       "       [5843.26439707],\n",
       "       [5793.2442408 ],\n",
       "       [5862.27079338],\n",
       "       [5917.60399571],\n",
       "       [6055.27877775],\n",
       "       [6144.35183322],\n",
       "       [6069.90257449],\n",
       "       [5923.25809033],\n",
       "       [5950.51487303],\n",
       "       [5975.17068952],\n",
       "       [5963.66097759],\n",
       "       [5903.88818939],\n",
       "       [5877.0460279 ],\n",
       "       [5888.43179687],\n",
       "       [5893.58808821],\n",
       "       [5950.58966964],\n",
       "       [5901.19682772],\n",
       "       [5786.24401951],\n",
       "       [5770.24070172],\n",
       "       [5749.51840249],\n",
       "       [5710.80379082],\n",
       "       [5680.290285  ],\n",
       "       [5683.51654451],\n",
       "       [5602.61151692],\n",
       "       [5408.63414195],\n",
       "       [5436.40214015],\n",
       "       [5392.64366649],\n",
       "       [5439.1164133 ],\n",
       "       [5549.20837304],\n",
       "       [5554.73230606],\n",
       "       [5431.58096971]])"
      ]
     },
     "execution_count": 39,
     "metadata": {},
     "output_type": "execute_result"
    }
   ],
   "source": [
    "plsprediction"
   ]
  },
  {
   "cell_type": "code",
   "execution_count": 21,
   "id": "74921409-29d4-4e4e-94bb-a3b7acbf33c3",
   "metadata": {},
   "outputs": [
    {
     "data": {
      "text/plain": [
       "0.9992897098959547"
      ]
     },
     "execution_count": 21,
     "metadata": {},
     "output_type": "execute_result"
    }
   ],
   "source": [
    "# R squared\n",
    "model1.score(X,y)"
   ]
  },
  {
   "cell_type": "markdown",
   "id": "a252ff6a-6aad-473f-b845-3fc0a161828f",
   "metadata": {},
   "source": [
    " R squared values is coming very close to 1 and yet not 1 which seems to be a better fit"
   ]
  },
  {
   "cell_type": "markdown",
   "id": "5abde7a2-7b0e-48a8-af4a-c6507cda1c68",
   "metadata": {},
   "source": [
    "Sales prediction ----- importing sample"
   ]
  },
  {
   "cell_type": "code",
   "execution_count": 27,
   "id": "c4f1f550-5af4-49ac-a39e-064c85c90b19",
   "metadata": {},
   "outputs": [],
   "source": [
    "sample_predict= [[290,312,309,298,320]]"
   ]
  },
  {
   "cell_type": "markdown",
   "id": "a3109381-284e-4d10-a9b8-0b0166a7fd4c",
   "metadata": {},
   "source": [
    "# predicting using linear regression model"
   ]
  },
  {
   "cell_type": "code",
   "execution_count": 28,
   "id": "4f7b5c51-55a2-4135-ab04-60e318222bf1",
   "metadata": {},
   "outputs": [
    {
     "data": {
      "text/plain": [
       "array([5820.06])"
      ]
     },
     "execution_count": 28,
     "metadata": {},
     "output_type": "execute_result"
    }
   ],
   "source": [
    "model.predict(sample_predict)"
   ]
  },
  {
   "cell_type": "markdown",
   "id": "301a1316-cf60-46ac-81ea-6658425fc7e8",
   "metadata": {},
   "source": [
    "\n",
    "\n",
    "\n",
    "\n",
    "\n",
    "# predicting using partial least squared regression model"
   ]
  },
  {
   "cell_type": "code",
   "execution_count": 38,
   "id": "a86d3567-529b-48e9-866a-d2fd33a05592",
   "metadata": {},
   "outputs": [
    {
     "data": {
      "text/plain": [
       "array([[5738.49652423]])"
      ]
     },
     "execution_count": 38,
     "metadata": {},
     "output_type": "execute_result"
    }
   ],
   "source": [
    "model1.predict(sample_predict)"
   ]
  },
  {
   "cell_type": "markdown",
   "id": "434d9d50-89c5-4fc6-9715-2051e49a17bf",
   "metadata": {},
   "source": [
    "As per linear regression model predicted profit is  **5820.06**\n",
    "as per partial least squared regression proft predicted is **5738.49**"
   ]
  }
 ],
 "metadata": {
  "kernelspec": {
   "display_name": "Python 3 (ipykernel)",
   "language": "python",
   "name": "python3"
  },
  "language_info": {
   "codemirror_mode": {
    "name": "ipython",
    "version": 3
   },
   "file_extension": ".py",
   "mimetype": "text/x-python",
   "name": "python",
   "nbconvert_exporter": "python",
   "pygments_lexer": "ipython3",
   "version": "3.8.8"
  }
 },
 "nbformat": 4,
 "nbformat_minor": 5
}
