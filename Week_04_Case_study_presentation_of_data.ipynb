{
 "cells": [
  {
   "cell_type": "markdown",
   "id": "5d524daf-5933-41d3-ac33-ffea186a4eb2",
   "metadata": {},
   "source": [
    "importing libraries"
   ]
  },
  {
   "cell_type": "code",
   "execution_count": 3,
   "id": "2f777121-e085-4103-93e9-bfd84c05d67c",
   "metadata": {},
   "outputs": [],
   "source": [
    "import numpy as np\n",
    "import pandas as pd\n",
    "import matplotlib.pyplot as plt"
   ]
  },
  {
   "cell_type": "markdown",
   "id": "d039b1fd-c8cf-4029-9a67-0c662afcce2f",
   "metadata": {},
   "source": [
    "# 1. Read the dataset to the python environment."
   ]
  },
  {
   "cell_type": "code",
   "execution_count": 4,
   "id": "06676444-3db2-4058-974c-50f9b079320b",
   "metadata": {},
   "outputs": [],
   "source": [
    "data=pd.read_csv('cars_data.csv')"
   ]
  },
  {
   "cell_type": "code",
   "execution_count": 21,
   "id": "4ba599f2-3f38-4238-bf2c-2997fed1cfe2",
   "metadata": {},
   "outputs": [
    {
     "data": {
      "text/html": [
       "<div>\n",
       "<style scoped>\n",
       "    .dataframe tbody tr th:only-of-type {\n",
       "        vertical-align: middle;\n",
       "    }\n",
       "\n",
       "    .dataframe tbody tr th {\n",
       "        vertical-align: top;\n",
       "    }\n",
       "\n",
       "    .dataframe thead th {\n",
       "        text-align: right;\n",
       "    }\n",
       "</style>\n",
       "<table border=\"1\" class=\"dataframe\">\n",
       "  <thead>\n",
       "    <tr style=\"text-align: right;\">\n",
       "      <th></th>\n",
       "      <th>Make</th>\n",
       "      <th>Model</th>\n",
       "      <th>Nickname</th>\n",
       "      <th>Car Gender</th>\n",
       "      <th>Buyer Gender</th>\n",
       "      <th>Buyer Age</th>\n",
       "      <th>Buzzword</th>\n",
       "      <th>Country</th>\n",
       "      <th>City</th>\n",
       "      <th>Dealer Latitude</th>\n",
       "      <th>Dealer Longitude</th>\n",
       "      <th>Color</th>\n",
       "      <th>New Car</th>\n",
       "      <th>Purchase Date</th>\n",
       "      <th>Sale Price</th>\n",
       "      <th>Discount</th>\n",
       "      <th>Resell Price</th>\n",
       "      <th>5-yr Depreciation</th>\n",
       "      <th>Top Speed</th>\n",
       "      <th>0-60 Time</th>\n",
       "    </tr>\n",
       "  </thead>\n",
       "  <tbody>\n",
       "    <tr>\n",
       "      <th>0</th>\n",
       "      <td>Suzuki</td>\n",
       "      <td>Vitara</td>\n",
       "      <td>Philippine</td>\n",
       "      <td>Female</td>\n",
       "      <td>Female</td>\n",
       "      <td>51</td>\n",
       "      <td>User-friendly</td>\n",
       "      <td>Belgium</td>\n",
       "      <td>Antwerpen</td>\n",
       "      <td>51.247239</td>\n",
       "      <td>4.440346</td>\n",
       "      <td>Yellow</td>\n",
       "      <td>False</td>\n",
       "      <td>19/07/2009</td>\n",
       "      <td>54806.14</td>\n",
       "      <td>0.2467</td>\n",
       "      <td>33858.32</td>\n",
       "      <td>0.13</td>\n",
       "      <td>200.9</td>\n",
       "      <td>11.5</td>\n",
       "    </tr>\n",
       "    <tr>\n",
       "      <th>1</th>\n",
       "      <td>Honda</td>\n",
       "      <td>S2000</td>\n",
       "      <td>Henrik</td>\n",
       "      <td>Male</td>\n",
       "      <td>Male</td>\n",
       "      <td>30</td>\n",
       "      <td>analyzing</td>\n",
       "      <td>China</td>\n",
       "      <td>Jinhu</td>\n",
       "      <td>33.025433</td>\n",
       "      <td>119.020584</td>\n",
       "      <td>Crimson</td>\n",
       "      <td>False</td>\n",
       "      <td>26/10/2015</td>\n",
       "      <td>51826.30</td>\n",
       "      <td>0.3147</td>\n",
       "      <td>2989.28</td>\n",
       "      <td>0.02</td>\n",
       "      <td>158.5</td>\n",
       "      <td>8.8</td>\n",
       "    </tr>\n",
       "    <tr>\n",
       "      <th>2</th>\n",
       "      <td>BMW</td>\n",
       "      <td>Z4</td>\n",
       "      <td>Lebbie</td>\n",
       "      <td>Male</td>\n",
       "      <td>Female</td>\n",
       "      <td>54</td>\n",
       "      <td>software</td>\n",
       "      <td>China</td>\n",
       "      <td>Gemo</td>\n",
       "      <td>30.916207</td>\n",
       "      <td>121.677640</td>\n",
       "      <td>Khaki</td>\n",
       "      <td>False</td>\n",
       "      <td>28/03/2010</td>\n",
       "      <td>82929.14</td>\n",
       "      <td>0.5414</td>\n",
       "      <td>35049.16</td>\n",
       "      <td>0.24</td>\n",
       "      <td>149.5</td>\n",
       "      <td>14.4</td>\n",
       "    </tr>\n",
       "    <tr>\n",
       "      <th>3</th>\n",
       "      <td>Toyota</td>\n",
       "      <td>Tacoma</td>\n",
       "      <td>Jefferey</td>\n",
       "      <td>Female</td>\n",
       "      <td>Male</td>\n",
       "      <td>68</td>\n",
       "      <td>monitoring</td>\n",
       "      <td>Portugal</td>\n",
       "      <td>Queluz de Baixo</td>\n",
       "      <td>38.745168</td>\n",
       "      <td>-9.267087</td>\n",
       "      <td>Puce</td>\n",
       "      <td>False</td>\n",
       "      <td>07/05/2008</td>\n",
       "      <td>56928.66</td>\n",
       "      <td>0.0850</td>\n",
       "      <td>8236.15</td>\n",
       "      <td>0.20</td>\n",
       "      <td>153.3</td>\n",
       "      <td>11.5</td>\n",
       "    </tr>\n",
       "    <tr>\n",
       "      <th>4</th>\n",
       "      <td>Ford</td>\n",
       "      <td>Festiva</td>\n",
       "      <td>Glendon</td>\n",
       "      <td>Female</td>\n",
       "      <td>Male</td>\n",
       "      <td>70</td>\n",
       "      <td>Sharable</td>\n",
       "      <td>Latvia</td>\n",
       "      <td>Jaunpils</td>\n",
       "      <td>56.729980</td>\n",
       "      <td>23.016588</td>\n",
       "      <td>Yellow</td>\n",
       "      <td>False</td>\n",
       "      <td>01/06/2008</td>\n",
       "      <td>77201.26</td>\n",
       "      <td>0.1642</td>\n",
       "      <td>32765.76</td>\n",
       "      <td>0.18</td>\n",
       "      <td>122.0</td>\n",
       "      <td>14.9</td>\n",
       "    </tr>\n",
       "  </tbody>\n",
       "</table>\n",
       "</div>"
      ],
      "text/plain": [
       "     Make    Model    Nickname Car Gender Buyer Gender  Buyer Age  \\\n",
       "0  Suzuki   Vitara  Philippine     Female       Female         51   \n",
       "1   Honda    S2000      Henrik       Male         Male         30   \n",
       "2     BMW       Z4      Lebbie       Male       Female         54   \n",
       "3  Toyota   Tacoma    Jefferey     Female         Male         68   \n",
       "4    Ford  Festiva     Glendon     Female         Male         70   \n",
       "\n",
       "        Buzzword   Country             City  Dealer Latitude  \\\n",
       "0  User-friendly   Belgium        Antwerpen        51.247239   \n",
       "1      analyzing     China            Jinhu        33.025433   \n",
       "2       software     China             Gemo        30.916207   \n",
       "3     monitoring  Portugal  Queluz de Baixo        38.745168   \n",
       "4       Sharable    Latvia         Jaunpils        56.729980   \n",
       "\n",
       "   Dealer Longitude    Color  New Car Purchase Date  Sale Price  Discount  \\\n",
       "0          4.440346   Yellow    False    19/07/2009    54806.14    0.2467   \n",
       "1        119.020584  Crimson    False    26/10/2015    51826.30    0.3147   \n",
       "2        121.677640    Khaki    False    28/03/2010    82929.14    0.5414   \n",
       "3         -9.267087     Puce    False    07/05/2008    56928.66    0.0850   \n",
       "4         23.016588   Yellow    False    01/06/2008    77201.26    0.1642   \n",
       "\n",
       "   Resell Price  5-yr Depreciation  Top Speed  0-60 Time  \n",
       "0      33858.32               0.13      200.9       11.5  \n",
       "1       2989.28               0.02      158.5        8.8  \n",
       "2      35049.16               0.24      149.5       14.4  \n",
       "3       8236.15               0.20      153.3       11.5  \n",
       "4      32765.76               0.18      122.0       14.9  "
      ]
     },
     "execution_count": 21,
     "metadata": {},
     "output_type": "execute_result"
    }
   ],
   "source": [
    "data.head()"
   ]
  },
  {
   "cell_type": "markdown",
   "id": "f746df4a-124e-4939-a429-ce3a5cdff957",
   "metadata": {},
   "source": [
    "Dataset imported to python"
   ]
  },
  {
   "cell_type": "markdown",
   "id": "42db9a32-6095-4278-9105-0df9d00b9a71",
   "metadata": {},
   "source": [
    "# 2. Check for the null values present in the dataset."
   ]
  },
  {
   "cell_type": "code",
   "execution_count": null,
   "id": "8daa63dd-7f7b-4f1f-bdbe-d410aa120186",
   "metadata": {},
   "outputs": [
    {
     "data": {
      "text/plain": [
       "Make                 0\n",
       "Model                0\n",
       "Nickname             0\n",
       "Car Gender           0\n",
       "Buyer Gender         0\n",
       "Buyer Age            0\n",
       "Buzzword             0\n",
       "Country              0\n",
       "City                 0\n",
       "Dealer Latitude      0\n",
       "Dealer Longitude     0\n",
       "Color                0\n",
       "New Car              0\n",
       "Purchase Date        0\n",
       "Sale Price           0\n",
       "Discount             0\n",
       "Resell Price         0\n",
       "5-yr Depreciation    0\n",
       "Top Speed            0\n",
       "0-60 Time            0\n",
       "dtype: int64"
      ]
     },
     "execution_count": 6,
     "metadata": {},
     "output_type": "execute_result"
    }
   ],
   "source": [
    "data.isnull().sum()"
   ]
  },
  {
   "cell_type": "markdown",
   "id": "1a215af4-1936-4419-a451-5a2dc123edd9",
   "metadata": {},
   "source": [
    "No null values present in the dataset"
   ]
  },
  {
   "cell_type": "markdown",
   "id": "ed74e1cc-d219-4893-83e0-829989d89906",
   "metadata": {},
   "source": [
    "# 3. Plot a bar graph of male vs female buyers participated in the sales."
   ]
  },
  {
   "cell_type": "code",
   "execution_count": 40,
   "id": "7b3b96ef-6a51-4687-ba75-d23b975790ce",
   "metadata": {},
   "outputs": [],
   "source": [
    "data['Count']=1\n",
    "data1=data.groupby(by='Buyer Gender').sum()"
   ]
  },
  {
   "cell_type": "code",
   "execution_count": 41,
   "id": "7c4b7ad6-43ce-47be-9abc-930660f81c3f",
   "metadata": {},
   "outputs": [
    {
     "data": {
      "text/html": [
       "<div>\n",
       "<style scoped>\n",
       "    .dataframe tbody tr th:only-of-type {\n",
       "        vertical-align: middle;\n",
       "    }\n",
       "\n",
       "    .dataframe tbody tr th {\n",
       "        vertical-align: top;\n",
       "    }\n",
       "\n",
       "    .dataframe thead th {\n",
       "        text-align: right;\n",
       "    }\n",
       "</style>\n",
       "<table border=\"1\" class=\"dataframe\">\n",
       "  <thead>\n",
       "    <tr style=\"text-align: right;\">\n",
       "      <th></th>\n",
       "      <th>Buyer Age</th>\n",
       "      <th>Dealer Latitude</th>\n",
       "      <th>Dealer Longitude</th>\n",
       "      <th>New Car</th>\n",
       "      <th>Sale Price</th>\n",
       "      <th>Discount</th>\n",
       "      <th>Resell Price</th>\n",
       "      <th>5-yr Depreciation</th>\n",
       "      <th>Top Speed</th>\n",
       "      <th>0-60 Time</th>\n",
       "      <th>Count</th>\n",
       "    </tr>\n",
       "    <tr>\n",
       "      <th>Buyer Gender</th>\n",
       "      <th></th>\n",
       "      <th></th>\n",
       "      <th></th>\n",
       "      <th></th>\n",
       "      <th></th>\n",
       "      <th></th>\n",
       "      <th></th>\n",
       "      <th></th>\n",
       "      <th></th>\n",
       "      <th></th>\n",
       "      <th></th>\n",
       "    </tr>\n",
       "  </thead>\n",
       "  <tbody>\n",
       "    <tr>\n",
       "      <th>Female</th>\n",
       "      <td>240887</td>\n",
       "      <td>124789.876802</td>\n",
       "      <td>221028.654394</td>\n",
       "      <td>2583</td>\n",
       "      <td>2.810630e+08</td>\n",
       "      <td>1760.7811</td>\n",
       "      <td>1.305429e+08</td>\n",
       "      <td>667.35</td>\n",
       "      <td>932323.8</td>\n",
       "      <td>42804.7</td>\n",
       "      <td>5052</td>\n",
       "    </tr>\n",
       "    <tr>\n",
       "      <th>Male</th>\n",
       "      <td>236734</td>\n",
       "      <td>123411.006717</td>\n",
       "      <td>217753.820714</td>\n",
       "      <td>2494</td>\n",
       "      <td>2.724450e+08</td>\n",
       "      <td>1742.3160</td>\n",
       "      <td>1.281906e+08</td>\n",
       "      <td>638.61</td>\n",
       "      <td>916711.0</td>\n",
       "      <td>41909.5</td>\n",
       "      <td>4948</td>\n",
       "    </tr>\n",
       "  </tbody>\n",
       "</table>\n",
       "</div>"
      ],
      "text/plain": [
       "              Buyer Age  Dealer Latitude  Dealer Longitude  New Car  \\\n",
       "Buyer Gender                                                          \n",
       "Female           240887    124789.876802     221028.654394     2583   \n",
       "Male             236734    123411.006717     217753.820714     2494   \n",
       "\n",
       "                Sale Price   Discount  Resell Price  5-yr Depreciation  \\\n",
       "Buyer Gender                                                             \n",
       "Female        2.810630e+08  1760.7811  1.305429e+08             667.35   \n",
       "Male          2.724450e+08  1742.3160  1.281906e+08             638.61   \n",
       "\n",
       "              Top Speed  0-60 Time  Count  \n",
       "Buyer Gender                               \n",
       "Female         932323.8    42804.7   5052  \n",
       "Male           916711.0    41909.5   4948  "
      ]
     },
     "execution_count": 41,
     "metadata": {},
     "output_type": "execute_result"
    }
   ],
   "source": [
    "data1"
   ]
  },
  {
   "cell_type": "code",
   "execution_count": null,
   "id": "a9edd325-f238-4db3-99eb-845e7e158e35",
   "metadata": {},
   "outputs": [],
   "source": []
  },
  {
   "cell_type": "code",
   "execution_count": 62,
   "id": "8c657953-0a1a-4df3-ac3e-227ab2924d22",
   "metadata": {},
   "outputs": [
    {
     "data": {
      "text/plain": [
       "Text(0.5, 1.0, 'male vs female buyers participated in the sales')"
      ]
     },
     "execution_count": 62,
     "metadata": {},
     "output_type": "execute_result"
    },
    {
     "data": {
      "image/png": "[encoded data removed]",
      "text/plain": [
       "<Figure size 864x432 with 1 Axes>"
      ]
     },
     "metadata": {
      "needs_background": "light"
     },
     "output_type": "display_data"
    }
   ],
   "source": [
    "plt.figure(figsize=(12,6))\n",
    "plot=plt.subplot(1,1,1)\n",
    "mc=data[['Buyer Gender']].value_counts()['Male']\n",
    "fc=data[['Buyer Gender']].value_counts()['Female']\n",
    "plt.bar(data['Buyer Gender']=='Male',mc,width=0.8,align='center',label='Male')\n",
    "plt.bar(data['Buyer Gender']=='Female',fc,width=0.4,align='edge',label='Female')\n",
    "handles, labels = plt.gca().get_legend_handles_labels()\n",
    "plt.legend(labels)\n",
    "plt.xticks([])\n",
    "plt.grid()\n",
    "plt.xlabel('Gender')\n",
    "plt.ylabel('Count')\n",
    "plt.title('male vs female buyers participated in the sales')"
   ]
  },
  {
   "cell_type": "markdown",
   "id": "fc69b7ce-9227-4cfe-b1b9-94e2340f5c5a",
   "metadata": {},
   "source": [
    "# 4.Find the top 5 cars based on their sales price."
   ]
  },
  {
   "cell_type": "markdown",
   "id": "bc823cfe-978b-41e0-9a8f-5b2f9f30a81b",
   "metadata": {},
   "source": [
    "Finding of index of top 5 sale price cars"
   ]
  },
  {
   "cell_type": "code",
   "execution_count": 117,
   "id": "1073e06a-2083-4e91-b84d-95e1ef1be2ad",
   "metadata": {},
   "outputs": [],
   "source": [
    "car=data['Sale Price'].nlargest(n=5).index"
   ]
  },
  {
   "cell_type": "code",
   "execution_count": 118,
   "id": "50153dc0-8443-45a7-9db4-9a453bfb4b39",
   "metadata": {},
   "outputs": [
    {
     "data": {
      "text/plain": [
       "Int64Index([5984, 1270, 3460, 9032, 302], dtype='int64')"
      ]
     },
     "execution_count": 118,
     "metadata": {},
     "output_type": "execute_result"
    }
   ],
   "source": [
    "car"
   ]
  },
  {
   "cell_type": "markdown",
   "id": "85461445-d7cc-461d-b6cf-66f9db7dda50",
   "metadata": {},
   "source": [
    "Top 5 cars by sales price"
   ]
  },
  {
   "cell_type": "code",
   "execution_count": 119,
   "id": "f59bacb6-a177-47e0-a7e6-8d0368b5d576",
   "metadata": {},
   "outputs": [
    {
     "data": {
      "text/plain": [
       "5984    Jetta III\n",
       "1270           A6\n",
       "3460           LX\n",
       "9032         MX-6\n",
       "302            ES\n",
       "Name: Model, dtype: object"
      ]
     },
     "execution_count": 119,
     "metadata": {},
     "output_type": "execute_result"
    }
   ],
   "source": [
    "data['Model'][car]"
   ]
  },
  {
   "cell_type": "markdown",
   "id": "f2b8916b-c85b-467d-9a7b-5466e3c31c1e",
   "metadata": {},
   "source": [
    "# 5. Find the least 5 cars based on their Resellprice."
   ]
  },
  {
   "cell_type": "markdown",
   "id": "72babf77-afa5-4f0b-be45-471247081a9d",
   "metadata": {},
   "source": [
    "Finding of index of least 5 sale price cars"
   ]
  },
  {
   "cell_type": "code",
   "execution_count": 120,
   "id": "e2a8c607-94e3-4b92-a9a8-d7b40dbb4fea",
   "metadata": {},
   "outputs": [],
   "source": [
    "car1=data['Sale Price'].nsmallest(n=5).index"
   ]
  },
  {
   "cell_type": "code",
   "execution_count": 121,
   "id": "a9f35201-34e6-4d38-8a3b-c687cfda77cc",
   "metadata": {},
   "outputs": [
    {
     "data": {
      "text/plain": [
       "Int64Index([3513, 7234, 5956, 6270, 6241], dtype='int64')"
      ]
     },
     "execution_count": 121,
     "metadata": {},
     "output_type": "execute_result"
    }
   ],
   "source": [
    "car1"
   ]
  },
  {
   "cell_type": "markdown",
   "id": "b7506138-9aad-4baf-acd3-0aabe35e24be",
   "metadata": {},
   "source": [
    "Least 5 cars by sales price"
   ]
  },
  {
   "cell_type": "code",
   "execution_count": 122,
   "id": "7c7b252e-3a07-41d3-9287-2024e28bc0de",
   "metadata": {},
   "outputs": [
    {
     "data": {
      "text/plain": [
       "3513                 Tracker\n",
       "7234               Excursion\n",
       "5956                  Mazda6\n",
       "6270                   240SX\n",
       "6241    Continental Mark VII\n",
       "Name: Model, dtype: object"
      ]
     },
     "execution_count": 122,
     "metadata": {},
     "output_type": "execute_result"
    }
   ],
   "source": [
    "data['Model'][car1]"
   ]
  }
 ],
 "metadata": {
  "kernelspec": {
   "display_name": "Python 3 (ipykernel)",
   "language": "python",
   "name": "python3"
  },
  "language_info": {
   "codemirror_mode": {
    "name": "ipython",
    "version": 3
   },
   "file_extension": ".py",
   "mimetype": "text/x-python",
   "name": "python",
   "nbconvert_exporter": "python",
   "pygments_lexer": "ipython3",
   "version": "3.8.8"
  }
 },
 "nbformat": 4,
 "nbformat_minor": 5
}
