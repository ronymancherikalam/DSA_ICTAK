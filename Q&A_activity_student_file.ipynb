{
 "cells": [
  {
   "cell_type": "markdown",
   "metadata": {
    "id": "4z_Z-K1tlrS7"
   },
   "source": [
    "## 1. Complete the following code to find the area of an equilateral triangle. Output should be as displayed"
   ]
  },
  {
   "cell_type": "code",
   "execution_count": 6,
   "metadata": {
    "colab": {
     "base_uri": "https://localhost:8080/"
    },
    "id": "rP2qFD_SlrS_",
    "outputId": "c3aaf35d-a160-451d-f1bf-ee02c3b7ea77"
   },
   "outputs": [
    {
     "name": "stdout",
     "output_type": "stream",
     "text": [
      "Enter the side of the equilateral triangle: 4\n",
      "Area=  6.928\n"
     ]
    }
   ],
   "source": [
    "import math\n",
    "side = float(input(\"Enter the side of the equilateral triangle: \"))\n",
    "area = ((math.sqrt(3))/4)*pow(side,2)\n",
    "print('Area= ',round(area,3))"
   ]
  },
  {
   "cell_type": "markdown",
   "metadata": {
    "id": "TjVKjIfclrTB"
   },
   "source": [
    "## 2. Write a program to count the number of each characters in a string"
   ]
  },
  {
   "cell_type": "code",
   "execution_count": 9,
   "metadata": {
    "id": "JY5seVUQlrTC"
   },
   "outputs": [
    {
     "name": "stdout",
     "output_type": "stream",
     "text": [
      "Enter a String:alphabet\n",
      "No of times a in String is: 2\n",
      "No of times l in String is: 1\n",
      "No of times p in String is: 1\n",
      "No of times h in String is: 1\n",
      "No of times b in String is: 1\n",
      "No of times e in String is: 1\n",
      "No of times t in String is: 1\n"
     ]
    }
   ],
   "source": [
    "string= input(\"Enter a String:\")\n",
    "string1=[]\n",
    "for i in(string):\n",
    "    if i in string1:\n",
    "        continue\n",
    "    else:\n",
    "        print('No of times',i,'in String is:',string.count(i))\n",
    "        string1.append(i)"
   ]
  },
  {
   "cell_type": "markdown",
   "metadata": {
    "id": "l3LCULfklrTD"
   },
   "source": [
    "## Write a program to find the area and perimeter of a rectangle using functions"
   ]
  },
  {
   "cell_type": "code",
   "execution_count": 4,
   "metadata": {
    "id": "8haQD8edlrTD"
   },
   "outputs": [
    {
     "name": "stdout",
     "output_type": "stream",
     "text": [
      "Enter length of Rectangle:10\n",
      "Enter width of Rectangle:5\n",
      "\n",
      "Area of Rectangle= 50.0\n",
      "Perimeter of Rectangle= 30.0\n"
     ]
    }
   ],
   "source": [
    "# Area and Perimeter of a Rectangle\n",
    "def rectArea(x,y):\n",
    "    print('\\nArea of Rectangle=',x*y)\n",
    "\n",
    "def rectPerim(x,y):\n",
    "    print('Perimeter of Rectangle=',2*(x+y))\n",
    "\n",
    "l=float(input('Enter length of Rectangle:'))\n",
    "w=float(input('Enter width of Rectangle:'))\n",
    "rectArea(l, w)\n",
    "rectPerim(l, w)"
   ]
  },
  {
   "cell_type": "markdown",
   "metadata": {
    "id": "JHK4ZdsflrTE"
   },
   "source": [
    "## 4. Write a program to print the fibonacci series till a specified number"
   ]
  },
  {
   "cell_type": "code",
   "execution_count": 5,
   "metadata": {
    "id": "LyBEj-4SlrTE"
   },
   "outputs": [
    {
     "name": "stdout",
     "output_type": "stream",
     "text": [
      "No of terms to be printed in Fibonacci Series:10\n",
      "First 10 terms of fibonacci series:\n",
      "0  1  1  2  3  5  8  13  21  34  "
     ]
    }
   ],
   "source": [
    "# First 'n' Terms of Fibonacci series\n",
    "n = int(input('No of terms to be printed in Fibonacci Series:'))\n",
    "no1, no2 = 0, 1\n",
    "i=1\n",
    "print('First',n,'terms of fibonacci series:')\n",
    "while(i<=n):\n",
    "    print(no1,end ='  ')\n",
    "    next = no1 + no2\n",
    "    no1 = no2\n",
    "    no2 = next\n",
    "    i+=1"
   ]
  },
  {
   "cell_type": "markdown",
   "metadata": {
    "id": "u4uBUcQKlrTE"
   },
   "source": [
    "## 5. Complete the following code to find the minimum of 3 number using cinditional statements. Output should be as displayed"
   ]
  },
  {
   "cell_type": "code",
   "execution_count": 16,
   "metadata": {
    "id": "XdZwrZjIlrTF"
   },
   "outputs": [
    {
     "name": "stdout",
     "output_type": "stream",
     "text": [
      "Enter three numbers followed by space : 3 -11 12\n",
      "First number : 3\n",
      "Second number : -11\n",
      "Third number : 12\n",
      "-11  is smallest\n"
     ]
    }
   ],
   "source": [
    "a,b,c = input(\"Enter three numbers followed by space : \").split()\n",
    "\n",
    "print(\"First number :\",a)\n",
    "print(\"Second number :\",b)\n",
    "print(\"Third number :\",c)\n",
    "if(a==b==c):\n",
    "    print(\"Entered numbers are equal!!!\")\n",
    "elif(a<b and a<c):\n",
    "    print(a,\" is smallest\")\n",
    "elif(b<a and b<c):\n",
    "    print(b,\" is smallest\")\n",
    "else:\n",
    "    print(c,\" is smallest\")"
   ]
  },
  {
   "cell_type": "code",
   "execution_count": 7,
   "metadata": {
    "colab": {
     "base_uri": "https://localhost:8080/"
    },
    "id": "FTqqtb1yMB84",
    "outputId": "aefa444f-0f15-4571-9f7b-513468f993da"
   },
   "outputs": [
    {
     "name": "stdout",
     "output_type": "stream",
     "text": [
      "Enter three numbers followed by space : 3 -11 12\n",
      "First number : 3\n",
      "Second number : -11\n",
      "Third number : 12\n",
      "-11  is smallest\n"
     ]
    }
   ],
   "source": [
    "a,b,c = input(\"Enter three numbers followed by space : \").split()\n",
    "\n",
    "print(\"First number :\",a)\n",
    "print(\"Second number :\",b)\n",
    "print(\"Third number :\",c)\n",
    "if(a==b==c):\n",
    "    print(\"Entered numbers are equal!!!\")\n",
    "elif(a<b and a<c):\n",
    "    print(a,\" is smallest\")\n",
    "elif(b<a and b<c):\n",
    "    print(b,\" is smallest\")\n",
    "else:\n",
    "    print(c,\" is smallest\")\n"
   ]
  },
  {
   "cell_type": "markdown",
   "metadata": {
    "id": "aR_CnToWlrTG"
   },
   "source": [
    "## 6. Write a program to print star pyramind. The number of rows should be taken as input from the user"
   ]
  },
  {
   "cell_type": "code",
   "execution_count": 14,
   "metadata": {
    "id": "M37A-buplrTG"
   },
   "outputs": [
    {
     "name": "stdout",
     "output_type": "stream",
     "text": [
      "Enter number of rows: 5\n",
      "        * \n",
      "      * * * \n",
      "    * * * * * \n",
      "  * * * * * * * \n",
      "* * * * * * * * * \n"
     ]
    }
   ],
   "source": [
    "rows = int(input(\"Enter number of rows: \"))\n",
    "k = 0\n",
    "for i in range(1, rows+1):\n",
    "    for y in range(1, (rows-i)+1):\n",
    "        print(end=\"  \")   \n",
    "    while k!=(2*i-1):\n",
    "        print(\"* \", end=\"\")\n",
    "        k += 1   \n",
    "    k = 0\n",
    "    print()"
   ]
  },
  {
   "cell_type": "markdown",
   "metadata": {
    "id": "tlY6aFWBlrTH"
   },
   "source": [
    "## 7. Complete the following code to convert hour into seconds. Output should be as displayed"
   ]
  },
  {
   "cell_type": "code",
   "execution_count": 8,
   "metadata": {
    "colab": {
     "base_uri": "https://localhost:8080/"
    },
    "id": "YOZQFk7FlrTH",
    "outputId": "164a6040-159f-4634-d98c-3851bc772288"
   },
   "outputs": [
    {
     "name": "stdout",
     "output_type": "stream",
     "text": [
      "Enter time in Hours :12\n",
      "12  Hour is equal to 43200  Seconds\n"
     ]
    }
   ],
   "source": [
    "def to_seconds(t):\n",
    "    t=t*3600\n",
    "    return t\n",
    "time_in_hours = int(input('Enter time in Hours :'))\n",
    "print(time_in_hours ,\" Hour is equal to\" ,to_seconds(time_in_hours) ,\" Seconds\")"
   ]
  },
  {
   "cell_type": "markdown",
   "metadata": {
    "id": "CnYorNiLlrTI"
   },
   "source": [
    "## 8. Write a program to print multiplication table as below"
   ]
  },
  {
   "cell_type": "code",
   "execution_count": 9,
   "metadata": {
    "colab": {
     "base_uri": "https://localhost:8080/"
    },
    "id": "dPQqDPuDlrTI",
    "outputId": "1fd8646d-bf0c-44a8-c3e6-663e5d5da748"
   },
   "outputs": [
    {
     "name": "stdout",
     "output_type": "stream",
     "text": [
      "Enter a number to find the multiplication table: 4\n",
      "1  *  4  =  4\n",
      "2  *  4  =  8\n",
      "3  *  4  =  12\n",
      "4  *  4  =  16\n",
      "5  *  4  =  20\n",
      "6  *  4  =  24\n",
      "7  *  4  =  28\n",
      "8  *  4  =  32\n",
      "9  *  4  =  36\n",
      "10  *  4  =  40\n"
     ]
    }
   ],
   "source": [
    "def multiply(n):\n",
    "    for i in  range(1,11):\n",
    "        print(i,\" * \",num1,\" = \",i*num1)\n",
    "num1= int(input('Enter a number to find the multiplication table: '))\n",
    "multiply(num1)"
   ]
  },
  {
   "cell_type": "markdown",
   "metadata": {
    "id": "Fiaez8iblrTI"
   },
   "source": [
    "## 9. Write a program to take your 5 favorite food as list and print each as 'I like Biriyani'"
   ]
  },
  {
   "cell_type": "code",
   "execution_count": 10,
   "metadata": {
    "colab": {
     "base_uri": "https://localhost:8080/"
    },
    "id": "39W1zFX7lrTJ",
    "outputId": "d9a7e962-0319-4f09-db93-13b7a379a7ae"
   },
   "outputs": [
    {
     "name": "stdout",
     "output_type": "stream",
     "text": [
      "Enter your favorite food list followed by space : Biryani Apple Orange\n",
      "I like Biryani\n",
      "I like Apple\n",
      "I like Orange\n"
     ]
    }
   ],
   "source": [
    "food=input('Enter your favorite food list followed by space : ').split()\n",
    "for i in range(0,len(food)):\n",
    "               print('I like',food[i])"
   ]
  },
  {
   "cell_type": "markdown",
   "metadata": {
    "id": "3vlcDNNEP7d_"
   },
   "source": [
    "## 10. Find error(s) in the following code(if any) and rewrite code.\n",
    "\n"
   ]
  },
  {
   "cell_type": "code",
   "execution_count": 13,
   "metadata": {
    "id": "coREkcY3P9sG"
   },
   "outputs": [
    {
     "name": "stdout",
     "output_type": "stream",
     "text": [
      "Enter value of x:9\n",
      "They are unequal\n",
      "They are unequal\n",
      "They are unequal\n",
      "They are unequal\n",
      "They are unequal\n",
      "They are unequal\n",
      "They are unequal\n",
      "They are unequal\n",
      "They are unequal\n",
      "They are equal\n"
     ]
    }
   ],
   "source": [
    "x= int(input(\"Enter value of x:\"))\n",
    "for y in range (0,10):\n",
    "     if x==y:\n",
    "          print(\"They are equal\")\n",
    "     else:\n",
    "         print( \"They are unequal\")"
   ]
  },
  {
   "cell_type": "code",
   "execution_count": null,
   "metadata": {},
   "outputs": [],
   "source": []
  }
 ],
 "metadata": {
  "colab": {
   "collapsed_sections": [],
   "name": "Q&A activity student file.ipynb",
   "provenance": []
  },
  "kernelspec": {
   "display_name": "Python 3 (ipykernel)",
   "language": "python",
   "name": "python3"
  },
  "language_info": {
   "codemirror_mode": {
    "name": "ipython",
    "version": 3
   },
   "file_extension": ".py",
   "mimetype": "text/x-python",
   "name": "python",
   "nbconvert_exporter": "python",
   "pygments_lexer": "ipython3",
   "version": "3.8.8"
  }
 },
 "nbformat": 4,
 "nbformat_minor": 1
}
